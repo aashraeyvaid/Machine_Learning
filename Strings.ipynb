{
 "cells": [
  {
   "cell_type": "code",
   "execution_count": 1,
   "id": "7a69af71-75bf-4263-821b-50b21925f53e",
   "metadata": {},
   "outputs": [],
   "source": [
    "a=\"abcdefghijklmnopqrstuvwxyz\""
   ]
  },
  {
   "cell_type": "code",
   "execution_count": 2,
   "id": "e52d31b5-52f2-4dbb-9653-d28c0878e50e",
   "metadata": {},
   "outputs": [
    {
     "data": {
      "text/plain": [
       "'abcdefghijklmnopqrstuvwxyz'"
      ]
     },
     "execution_count": 2,
     "metadata": {},
     "output_type": "execute_result"
    }
   ],
   "source": [
    "a"
   ]
  },
  {
   "cell_type": "code",
   "execution_count": 3,
   "id": "b3934c79-7987-43af-b45f-86ee58ef08af",
   "metadata": {},
   "outputs": [],
   "source": [
    "b=\"abcd1234\""
   ]
  },
  {
   "cell_type": "code",
   "execution_count": 4,
   "id": "c3e4c709-70e8-4534-a6b7-f6017bb43242",
   "metadata": {},
   "outputs": [],
   "source": [
    "c=\"@#12ddf shdfb jghdn jfgh\""
   ]
  },
  {
   "cell_type": "code",
   "execution_count": 19,
   "id": "1e4f030d-2668-4abb-af7c-6d2b95eb3825",
   "metadata": {},
   "outputs": [],
   "source": [
    "d=\"Python is an objEct oRienTed language x\""
   ]
  },
  {
   "cell_type": "code",
   "execution_count": 20,
   "id": "f36104fa-340c-4276-b106-57036532efcd",
   "metadata": {},
   "outputs": [
    {
     "data": {
      "text/plain": [
       "'PYTHON IS AN OBJECT ORIENTED LANGUAGE X'"
      ]
     },
     "execution_count": 20,
     "metadata": {},
     "output_type": "execute_result"
    }
   ],
   "source": [
    "d.upper()"
   ]
  },
  {
   "cell_type": "code",
   "execution_count": 21,
   "id": "38dbf208-fc2d-481c-9f4a-fb4991e085e7",
   "metadata": {},
   "outputs": [
    {
     "data": {
      "text/plain": [
       "'python is an object oriented language x'"
      ]
     },
     "execution_count": 21,
     "metadata": {},
     "output_type": "execute_result"
    }
   ],
   "source": [
    "d.lower()"
   ]
  },
  {
   "cell_type": "code",
   "execution_count": 22,
   "id": "c118638b-4759-4097-a7c2-7527a45ff126",
   "metadata": {},
   "outputs": [
    {
     "data": {
      "text/plain": [
       "'Python Is An Object Oriented Language X'"
      ]
     },
     "execution_count": 22,
     "metadata": {},
     "output_type": "execute_result"
    }
   ],
   "source": [
    "d.title()"
   ]
  },
  {
   "cell_type": "code",
   "execution_count": 23,
   "id": "ea068850-3a75-4068-9ce5-3912ede5791e",
   "metadata": {},
   "outputs": [
    {
     "data": {
      "text/plain": [
       "'Python is an object oriented language x'"
      ]
     },
     "execution_count": 23,
     "metadata": {},
     "output_type": "execute_result"
    }
   ],
   "source": [
    "d.capitalize()"
   ]
  },
  {
   "cell_type": "code",
   "execution_count": 24,
   "id": "403c5240-a2fe-44bc-afaf-9fc52215d38c",
   "metadata": {},
   "outputs": [
    {
     "data": {
      "text/plain": [
       "['Pyth', 'n is an ', 'bjEct ', 'RienTed language x']"
      ]
     },
     "execution_count": 24,
     "metadata": {},
     "output_type": "execute_result"
    }
   ],
   "source": [
    "d.split('o')"
   ]
  },
  {
   "cell_type": "code",
   "execution_count": 25,
   "id": "d9948bf8-74e1-4d6b-b702-89c5116d54b2",
   "metadata": {},
   "outputs": [
    {
     "data": {
      "text/plain": [
       "('Python', ' ', 'is an objEct oRienTed language x')"
      ]
     },
     "execution_count": 25,
     "metadata": {},
     "output_type": "execute_result"
    }
   ],
   "source": [
    "d.partition(' ')"
   ]
  },
  {
   "cell_type": "code",
   "execution_count": 26,
   "id": "613b8ad8-b2c8-448c-904e-9cc355849f59",
   "metadata": {},
   "outputs": [
    {
     "data": {
      "text/plain": [
       "('Python is an objEct oRienTed language ', 'x', '')"
      ]
     },
     "execution_count": 26,
     "metadata": {},
     "output_type": "execute_result"
    }
   ],
   "source": [
    "d.partition('x')"
   ]
  },
  {
   "cell_type": "code",
   "execution_count": 27,
   "id": "a05e63e6-4197-4299-9923-2d50deb00701",
   "metadata": {},
   "outputs": [
    {
     "data": {
      "text/plain": [
       "4"
      ]
     },
     "execution_count": 27,
     "metadata": {},
     "output_type": "execute_result"
    }
   ],
   "source": [
    "d.find('o')"
   ]
  },
  {
   "cell_type": "code",
   "execution_count": 28,
   "id": "d57966df-fa6b-4d3a-be31-ef5a7bc3be42",
   "metadata": {},
   "outputs": [
    {
     "data": {
      "text/plain": [
       "4"
      ]
     },
     "execution_count": 28,
     "metadata": {},
     "output_type": "execute_result"
    }
   ],
   "source": [
    "d.index('o')"
   ]
  },
  {
   "cell_type": "code",
   "execution_count": 29,
   "id": "cfc743d7-2c55-4313-b790-d011214b1a8b",
   "metadata": {},
   "outputs": [
    {
     "data": {
      "text/plain": [
       "-1"
      ]
     },
     "execution_count": 29,
     "metadata": {},
     "output_type": "execute_result"
    }
   ],
   "source": [
    "d.find('z')"
   ]
  },
  {
   "cell_type": "code",
   "execution_count": 30,
   "id": "6c17f728-086c-4494-8170-cc902b9f22ff",
   "metadata": {},
   "outputs": [
    {
     "ename": "ValueError",
     "evalue": "substring not found",
     "output_type": "error",
     "traceback": [
      "\u001b[1;31m---------------------------------------------------------------------------\u001b[0m",
      "\u001b[1;31mValueError\u001b[0m                                Traceback (most recent call last)",
      "Cell \u001b[1;32mIn[30], line 1\u001b[0m\n\u001b[1;32m----> 1\u001b[0m \u001b[43md\u001b[49m\u001b[38;5;241;43m.\u001b[39;49m\u001b[43mindex\u001b[49m\u001b[43m(\u001b[49m\u001b[38;5;124;43m'\u001b[39;49m\u001b[38;5;124;43mz\u001b[39;49m\u001b[38;5;124;43m'\u001b[39;49m\u001b[43m)\u001b[49m\n",
      "\u001b[1;31mValueError\u001b[0m: substring not found"
     ]
    }
   ],
   "source": [
    "d.index('z')"
   ]
  },
  {
   "cell_type": "code",
   "execution_count": 31,
   "id": "493432d3-f391-4f69-b234-a50ac09f5298",
   "metadata": {},
   "outputs": [
    {
     "data": {
      "text/plain": [
       "'a*b*c*d*e*f'"
      ]
     },
     "execution_count": 31,
     "metadata": {},
     "output_type": "execute_result"
    }
   ],
   "source": [
    "\"*\".join(\"abcdef\")"
   ]
  },
  {
   "cell_type": "code",
   "execution_count": 35,
   "id": "ea2b83e7-55c2-4e80-b33c-fc94ff3da30e",
   "metadata": {},
   "outputs": [
    {
     "ename": "TypeError",
     "evalue": "sequence item 0: expected str instance, int found",
     "output_type": "error",
     "traceback": [
      "\u001b[1;31m---------------------------------------------------------------------------\u001b[0m",
      "\u001b[1;31mTypeError\u001b[0m                                 Traceback (most recent call last)",
      "Cell \u001b[1;32mIn[35], line 1\u001b[0m\n\u001b[1;32m----> 1\u001b[0m \u001b[38;5;124;43m'\u001b[39;49m\u001b[38;5;124;43m#\u001b[39;49m\u001b[38;5;124;43m'\u001b[39;49m\u001b[38;5;241;43m.\u001b[39;49m\u001b[43mjoin\u001b[49m\u001b[43m(\u001b[49m\u001b[43m[\u001b[49m\u001b[38;5;241;43m1\u001b[39;49m\u001b[43m,\u001b[49m\u001b[38;5;241;43m2\u001b[39;49m\u001b[43m,\u001b[49m\u001b[38;5;241;43m3\u001b[39;49m\u001b[43m]\u001b[49m\u001b[43m)\u001b[49m\n",
      "\u001b[1;31mTypeError\u001b[0m: sequence item 0: expected str instance, int found"
     ]
    }
   ],
   "source": [
    "'#'.join([1,2,3])"
   ]
  },
  {
   "cell_type": "code",
   "execution_count": 36,
   "id": "c57f874b-7373-4843-8507-95f3f279e2a9",
   "metadata": {},
   "outputs": [
    {
     "data": {
      "text/plain": [
       "'abc%def%sdfg'"
      ]
     },
     "execution_count": 36,
     "metadata": {},
     "output_type": "execute_result"
    }
   ],
   "source": [
    "'%'.join(['abc','def','sdfg'])"
   ]
  },
  {
   "cell_type": "code",
   "execution_count": 37,
   "id": "ba3920b2-677a-46b1-ad9e-aa2482ab7cdc",
   "metadata": {},
   "outputs": [
    {
     "data": {
      "text/plain": [
       "'@#12ddf_shdfb_jghdn_jfgh'"
      ]
     },
     "execution_count": 37,
     "metadata": {},
     "output_type": "execute_result"
    }
   ],
   "source": [
    "c.replace(' ','_')"
   ]
  },
  {
   "cell_type": "code",
   "execution_count": 38,
   "id": "4a08086c-3855-4872-a3ea-7285d6fbe7f1",
   "metadata": {},
   "outputs": [
    {
     "data": {
      "text/plain": [
       "'@#12ddf shdfb jghdn jfgh'"
      ]
     },
     "execution_count": 38,
     "metadata": {},
     "output_type": "execute_result"
    }
   ],
   "source": [
    "c"
   ]
  },
  {
   "cell_type": "code",
   "execution_count": 40,
   "id": "787f5d07-732e-46f9-bae9-b5363c42b7bc",
   "metadata": {},
   "outputs": [],
   "source": [
    "r=reversed(d)"
   ]
  },
  {
   "cell_type": "code",
   "execution_count": 41,
   "id": "c1dbd134-e50f-4e89-bd9c-4de0ce63472d",
   "metadata": {},
   "outputs": [
    {
     "data": {
      "text/plain": [
       "<reversed at 0x2248d34fa00>"
      ]
     },
     "execution_count": 41,
     "metadata": {},
     "output_type": "execute_result"
    }
   ],
   "source": [
    "r"
   ]
  },
  {
   "cell_type": "code",
   "execution_count": 42,
   "id": "6570bce6-7784-4400-8540-b38a3b48fe19",
   "metadata": {},
   "outputs": [
    {
     "data": {
      "text/plain": [
       "'Python is an objEct oRienTed language x'"
      ]
     },
     "execution_count": 42,
     "metadata": {},
     "output_type": "execute_result"
    }
   ],
   "source": [
    "d"
   ]
  },
  {
   "cell_type": "code",
   "execution_count": 43,
   "id": "911a72fb-8538-4bd2-b6a1-5478db9f4f83",
   "metadata": {},
   "outputs": [
    {
     "data": {
      "text/plain": [
       "['x',\n",
       " ' ',\n",
       " 'e',\n",
       " 'g',\n",
       " 'a',\n",
       " 'u',\n",
       " 'g',\n",
       " 'n',\n",
       " 'a',\n",
       " 'l',\n",
       " ' ',\n",
       " 'd',\n",
       " 'e',\n",
       " 'T',\n",
       " 'n',\n",
       " 'e',\n",
       " 'i',\n",
       " 'R',\n",
       " 'o',\n",
       " ' ',\n",
       " 't',\n",
       " 'c',\n",
       " 'E',\n",
       " 'j',\n",
       " 'b',\n",
       " 'o',\n",
       " ' ',\n",
       " 'n',\n",
       " 'a',\n",
       " ' ',\n",
       " 's',\n",
       " 'i',\n",
       " ' ',\n",
       " 'n',\n",
       " 'o',\n",
       " 'h',\n",
       " 't',\n",
       " 'y',\n",
       " 'P']"
      ]
     },
     "execution_count": 43,
     "metadata": {},
     "output_type": "execute_result"
    }
   ],
   "source": [
    "list(r)"
   ]
  },
  {
   "cell_type": "code",
   "execution_count": null,
   "id": "110e718a-196f-4263-a27d-931cd6c4e319",
   "metadata": {},
   "outputs": [],
   "source": []
  }
 ],
 "metadata": {
  "kernelspec": {
   "display_name": "Python 3 (ipykernel)",
   "language": "python",
   "name": "python3"
  },
  "language_info": {
   "codemirror_mode": {
    "name": "ipython",
    "version": 3
   },
   "file_extension": ".py",
   "mimetype": "text/x-python",
   "name": "python",
   "nbconvert_exporter": "python",
   "pygments_lexer": "ipython3",
   "version": "3.12.5"
  }
 },
 "nbformat": 4,
 "nbformat_minor": 5
}
