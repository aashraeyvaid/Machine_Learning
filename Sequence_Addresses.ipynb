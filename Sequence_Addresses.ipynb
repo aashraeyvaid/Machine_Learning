{
 "cells": [
  {
   "cell_type": "code",
   "execution_count": 6,
   "id": "bbe7392a-8a18-469b-b018-f7aa0237a097",
   "metadata": {},
   "outputs": [
    {
     "name": "stdout",
     "output_type": "stream",
     "text": [
      "2337459271936\n",
      "140736175803096\n",
      "2337459462080\n",
      "140736175803096\n"
     ]
    }
   ],
   "source": [
    "a=[10,20,30,40,50,60,70]\n",
    "b=[10,20,30,40,50,60,70]\n",
    "print(id(a))\n",
    "print(id(a[0]))\n",
    "print(id(b))\n",
    "print(id(b[0]))"
   ]
  },
  {
   "cell_type": "code",
   "execution_count": 7,
   "id": "a79c75f0-3d4d-4fd0-a169-2055d74881ce",
   "metadata": {},
   "outputs": [],
   "source": [
    "c=[10,20,30,40,50,60,70]"
   ]
  },
  {
   "cell_type": "code",
   "execution_count": 8,
   "id": "2026b07c-2be3-4576-ae0c-bc87a88cd9e7",
   "metadata": {},
   "outputs": [
    {
     "name": "stdout",
     "output_type": "stream",
     "text": [
      "2337459563520\n"
     ]
    }
   ],
   "source": [
    "print(id(c))"
   ]
  },
  {
   "cell_type": "code",
   "execution_count": 9,
   "id": "b8e4f01e-1448-47b2-82f1-3d6f88023396",
   "metadata": {},
   "outputs": [
    {
     "name": "stdout",
     "output_type": "stream",
     "text": [
      "140736175803096\n"
     ]
    }
   ],
   "source": [
    "x=10\n",
    "print(id(x))"
   ]
  },
  {
   "cell_type": "code",
   "execution_count": 10,
   "id": "489c954d-e1ea-4447-9fb4-106bd338aaef",
   "metadata": {},
   "outputs": [
    {
     "name": "stdout",
     "output_type": "stream",
     "text": [
      "2337459271936\n"
     ]
    }
   ],
   "source": [
    "c=a\n",
    "print(id(c))"
   ]
  },
  {
   "cell_type": "code",
   "execution_count": 15,
   "id": "62dd19e5-38ec-45c8-b99e-0a81650f192c",
   "metadata": {},
   "outputs": [
    {
     "name": "stdout",
     "output_type": "stream",
     "text": [
      "2337459620144\n",
      "140736175866120\n",
      "2337459620144\n",
      "140736175866120\n"
     ]
    }
   ],
   "source": [
    "x=\"abcd\"\n",
    "y=\"abcd\"\n",
    "print(id(x))\n",
    "print(id(x[0]))\n",
    "print(id(y))\n",
    "print(id(y[0]))"
   ]
  },
  {
   "cell_type": "code",
   "execution_count": 12,
   "id": "4aad8545-415c-4736-88d2-6238b6a468bf",
   "metadata": {},
   "outputs": [
    {
     "name": "stdout",
     "output_type": "stream",
     "text": [
      "2337372068272\n",
      "2337459620144\n"
     ]
    }
   ],
   "source": [
    "x=\"def\"\n",
    "print(id(x))\n",
    "print(id(y))"
   ]
  },
  {
   "cell_type": "code",
   "execution_count": 13,
   "id": "7e9dc8da-a4e8-40b2-b264-030a452cc49a",
   "metadata": {},
   "outputs": [],
   "source": [
    "t=(10,20,30)"
   ]
  },
  {
   "cell_type": "code",
   "execution_count": 14,
   "id": "8dcc6950-04a0-40eb-934e-c9e2001310d0",
   "metadata": {},
   "outputs": [
    {
     "name": "stdout",
     "output_type": "stream",
     "text": [
      "2337459564352\n",
      "2337459564224\n"
     ]
    }
   ],
   "source": [
    "u=(10,20,30)\n",
    "print(id(t))\n",
    "print(id(u))"
   ]
  },
  {
   "cell_type": "code",
   "execution_count": null,
   "id": "848e781e-1f92-44a2-a588-8844c9bc4326",
   "metadata": {},
   "outputs": [],
   "source": []
  }
 ],
 "metadata": {
  "kernelspec": {
   "display_name": "Python 3 (ipykernel)",
   "language": "python",
   "name": "python3"
  },
  "language_info": {
   "codemirror_mode": {
    "name": "ipython",
    "version": 3
   },
   "file_extension": ".py",
   "mimetype": "text/x-python",
   "name": "python",
   "nbconvert_exporter": "python",
   "pygments_lexer": "ipython3",
   "version": "3.12.5"
  }
 },
 "nbformat": 4,
 "nbformat_minor": 5
}
