{
 "cells": [
  {
   "cell_type": "code",
   "execution_count": 2,
   "id": "ed3ada2a-c691-41a4-8808-ba35416baed2",
   "metadata": {},
   "outputs": [],
   "source": [
    "from sklearn.manifold import TSNE"
   ]
  },
  {
   "cell_type": "code",
   "execution_count": null,
   "id": "e3056f78-70a9-424a-a956-503c19b31ee8",
   "metadata": {},
   "outputs": [],
   "source": [
    "data_1000=stdt[0:1000,:]\n",
    "labels_1000=labels[0:1000]"
   ]
  }
 ],
 "metadata": {
  "kernelspec": {
   "display_name": "Python 3 (ipykernel)",
   "language": "python",
   "name": "python3"
  },
  "language_info": {
   "codemirror_mode": {
    "name": "ipython",
    "version": 3
   },
   "file_extension": ".py",
   "mimetype": "text/x-python",
   "name": "python",
   "nbconvert_exporter": "python",
   "pygments_lexer": "ipython3",
   "version": "3.12.5"
  }
 },
 "nbformat": 4,
 "nbformat_minor": 5
}
