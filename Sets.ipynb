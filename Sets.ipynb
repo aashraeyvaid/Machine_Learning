{
 "cells": [
  {
   "cell_type": "code",
   "execution_count": 1,
   "id": "8bf3cb3f-5a18-40eb-b368-82aeda41db75",
   "metadata": {},
   "outputs": [],
   "source": [
    "a={1,2,3,4,5,6,7}"
   ]
  },
  {
   "cell_type": "code",
   "execution_count": 2,
   "id": "362343e8-2568-492c-9acf-adb43402e103",
   "metadata": {},
   "outputs": [],
   "source": [
    "a.update([10,20,30])"
   ]
  },
  {
   "cell_type": "code",
   "execution_count": 3,
   "id": "8d46f6ff-7c1f-4d3e-be1d-e3e9f41c73e8",
   "metadata": {},
   "outputs": [
    {
     "data": {
      "text/plain": [
       "{1, 2, 3, 4, 5, 6, 7, 10, 20, 30}"
      ]
     },
     "execution_count": 3,
     "metadata": {},
     "output_type": "execute_result"
    }
   ],
   "source": [
    "a"
   ]
  },
  {
   "cell_type": "code",
   "execution_count": 4,
   "id": "d75d3b47-8735-49ca-b2cb-b4938eb7958e",
   "metadata": {},
   "outputs": [],
   "source": [
    "a.update([10,40,12],{30,20,11})"
   ]
  },
  {
   "cell_type": "code",
   "execution_count": 5,
   "id": "8617296e-4a3d-4193-a743-1d7d2b6b3e33",
   "metadata": {},
   "outputs": [
    {
     "data": {
      "text/plain": [
       "{1, 2, 3, 4, 5, 6, 7, 10, 11, 12, 20, 30, 40}"
      ]
     },
     "execution_count": 5,
     "metadata": {},
     "output_type": "execute_result"
    }
   ],
   "source": [
    "a"
   ]
  },
  {
   "cell_type": "code",
   "execution_count": 6,
   "id": "e03b61e1-1a21-482a-90b6-dbe48b579a05",
   "metadata": {},
   "outputs": [
    {
     "ename": "TypeError",
     "evalue": "'int' object is not iterable",
     "output_type": "error",
     "traceback": [
      "\u001b[1;31m---------------------------------------------------------------------------\u001b[0m",
      "\u001b[1;31mTypeError\u001b[0m                                 Traceback (most recent call last)",
      "Cell \u001b[1;32mIn[6], line 1\u001b[0m\n\u001b[1;32m----> 1\u001b[0m \u001b[43ma\u001b[49m\u001b[38;5;241;43m.\u001b[39;49m\u001b[43mupdate\u001b[49m\u001b[43m(\u001b[49m\u001b[38;5;241;43m13\u001b[39;49m\u001b[43m,\u001b[49m\u001b[38;5;241;43m14\u001b[39;49m\u001b[43m)\u001b[49m\n",
      "\u001b[1;31mTypeError\u001b[0m: 'int' object is not iterable"
     ]
    }
   ],
   "source": [
    "a.update(13,14)"
   ]
  },
  {
   "cell_type": "code",
   "execution_count": 7,
   "id": "cefbc362-e00a-4bb2-8247-dd1f435db183",
   "metadata": {},
   "outputs": [
    {
     "data": {
      "text/plain": [
       "{1, 2, 3, 4, 5, 6, 7, 10, 11, 12, 20, 30, 40}"
      ]
     },
     "execution_count": 7,
     "metadata": {},
     "output_type": "execute_result"
    }
   ],
   "source": [
    "a"
   ]
  },
  {
   "cell_type": "code",
   "execution_count": 8,
   "id": "a92fbe8c-df5b-436a-ad2c-d7f63c461a75",
   "metadata": {},
   "outputs": [],
   "source": [
    "a.update(\"abc\",\"abd\")"
   ]
  },
  {
   "cell_type": "code",
   "execution_count": 9,
   "id": "4361286c-0011-44d4-b8ce-66f04973b5f9",
   "metadata": {},
   "outputs": [
    {
     "data": {
      "text/plain": [
       "{1, 10, 11, 12, 2, 20, 3, 30, 4, 40, 5, 6, 7, 'a', 'b', 'c', 'd'}"
      ]
     },
     "execution_count": 9,
     "metadata": {},
     "output_type": "execute_result"
    }
   ],
   "source": [
    "a"
   ]
  },
  {
   "cell_type": "code",
   "execution_count": 10,
   "id": "eab6446c-109d-4adf-a6f0-a9689d895818",
   "metadata": {},
   "outputs": [],
   "source": [
    "a.discard(10)"
   ]
  },
  {
   "cell_type": "code",
   "execution_count": 11,
   "id": "4dd65fe8-a677-4691-bd00-d4a1782794a7",
   "metadata": {},
   "outputs": [
    {
     "data": {
      "text/plain": [
       "{1, 11, 12, 2, 20, 3, 30, 4, 40, 5, 6, 7, 'a', 'b', 'c', 'd'}"
      ]
     },
     "execution_count": 11,
     "metadata": {},
     "output_type": "execute_result"
    }
   ],
   "source": [
    "a"
   ]
  },
  {
   "cell_type": "code",
   "execution_count": 12,
   "id": "241cbe48-705f-48f8-b493-204d8be3cd54",
   "metadata": {},
   "outputs": [
    {
     "data": {
      "text/plain": [
       "{1, 11, 12, 2, 20, 3, 30, 4, 40, 5, 6, 7, 'a', 'b', 'c', 'd'}"
      ]
     },
     "execution_count": 12,
     "metadata": {},
     "output_type": "execute_result"
    }
   ],
   "source": [
    "a"
   ]
  },
  {
   "cell_type": "code",
   "execution_count": 13,
   "id": "5d089fb6-d48f-4548-b21b-fa815096df58",
   "metadata": {},
   "outputs": [],
   "source": [
    "a.remove(2)"
   ]
  },
  {
   "cell_type": "code",
   "execution_count": 14,
   "id": "23060b85-c807-4e1e-9e71-81f2d70dd831",
   "metadata": {},
   "outputs": [
    {
     "data": {
      "text/plain": [
       "{1, 11, 12, 20, 3, 30, 4, 40, 5, 6, 7, 'a', 'b', 'c', 'd'}"
      ]
     },
     "execution_count": 14,
     "metadata": {},
     "output_type": "execute_result"
    }
   ],
   "source": [
    "a"
   ]
  },
  {
   "cell_type": "code",
   "execution_count": 15,
   "id": "b89f4d69-91dd-4b59-86f3-6adb1ee449f8",
   "metadata": {},
   "outputs": [
    {
     "ename": "KeyError",
     "evalue": "100",
     "output_type": "error",
     "traceback": [
      "\u001b[1;31m---------------------------------------------------------------------------\u001b[0m",
      "\u001b[1;31mKeyError\u001b[0m                                  Traceback (most recent call last)",
      "Cell \u001b[1;32mIn[15], line 1\u001b[0m\n\u001b[1;32m----> 1\u001b[0m \u001b[43ma\u001b[49m\u001b[38;5;241;43m.\u001b[39;49m\u001b[43mremove\u001b[49m\u001b[43m(\u001b[49m\u001b[38;5;241;43m100\u001b[39;49m\u001b[43m)\u001b[49m\n",
      "\u001b[1;31mKeyError\u001b[0m: 100"
     ]
    }
   ],
   "source": [
    "a.remove(100)"
   ]
  },
  {
   "cell_type": "code",
   "execution_count": 16,
   "id": "c90270cc-d1d2-4eae-b13b-8ec815783fe7",
   "metadata": {},
   "outputs": [],
   "source": [
    "a.discard(100)"
   ]
  },
  {
   "cell_type": "code",
   "execution_count": 17,
   "id": "77dae70a-d03c-4749-b479-9e29dc4bfbdc",
   "metadata": {},
   "outputs": [
    {
     "data": {
      "text/plain": [
       "{1, 11, 12, 20, 3, 30, 4, 40, 5, 6, 7, 'a', 'b', 'c', 'd'}"
      ]
     },
     "execution_count": 17,
     "metadata": {},
     "output_type": "execute_result"
    }
   ],
   "source": [
    "a"
   ]
  },
  {
   "cell_type": "code",
   "execution_count": 18,
   "id": "b8ae4032-c1c2-4592-9c25-b590fc98c9bf",
   "metadata": {},
   "outputs": [
    {
     "data": {
      "text/plain": [
       "1"
      ]
     },
     "execution_count": 18,
     "metadata": {},
     "output_type": "execute_result"
    }
   ],
   "source": [
    "a.pop()"
   ]
  },
  {
   "cell_type": "code",
   "execution_count": 19,
   "id": "ee420ec4-2f84-463c-8376-c5e2ef9e0276",
   "metadata": {},
   "outputs": [
    {
     "data": {
      "text/plain": [
       "3"
      ]
     },
     "execution_count": 19,
     "metadata": {},
     "output_type": "execute_result"
    }
   ],
   "source": [
    "a.pop()"
   ]
  },
  {
   "cell_type": "code",
   "execution_count": 20,
   "id": "ae836339-5286-4d65-b517-fc63ac947ce4",
   "metadata": {},
   "outputs": [],
   "source": [
    "b={22,23,123}"
   ]
  },
  {
   "cell_type": "code",
   "execution_count": 21,
   "id": "005b0f0b-ad63-4f5a-b2cd-106f29b8430f",
   "metadata": {},
   "outputs": [
    {
     "data": {
      "text/plain": [
       "{22, 23, 123}"
      ]
     },
     "execution_count": 21,
     "metadata": {},
     "output_type": "execute_result"
    }
   ],
   "source": [
    "b"
   ]
  },
  {
   "cell_type": "code",
   "execution_count": 22,
   "id": "1ba0d3ed-7ed7-4ec4-8069-3941c28ee0f8",
   "metadata": {},
   "outputs": [
    {
     "data": {
      "text/plain": [
       "{22, 23, 123}"
      ]
     },
     "execution_count": 22,
     "metadata": {},
     "output_type": "execute_result"
    }
   ],
   "source": [
    "b"
   ]
  },
  {
   "cell_type": "code",
   "execution_count": 23,
   "id": "9ab96ff5-c446-4f2d-875d-882f1e39a1e4",
   "metadata": {},
   "outputs": [],
   "source": [
    "b.clear()"
   ]
  },
  {
   "cell_type": "code",
   "execution_count": 24,
   "id": "31109e62-6bfd-497b-a8af-48f62dbff862",
   "metadata": {},
   "outputs": [
    {
     "data": {
      "text/plain": [
       "set()"
      ]
     },
     "execution_count": 24,
     "metadata": {},
     "output_type": "execute_result"
    }
   ],
   "source": [
    "b"
   ]
  },
  {
   "cell_type": "code",
   "execution_count": 25,
   "id": "584c11a8-352f-4a11-8130-443237ca15cd",
   "metadata": {},
   "outputs": [
    {
     "data": {
      "text/plain": [
       "set()"
      ]
     },
     "execution_count": 25,
     "metadata": {},
     "output_type": "execute_result"
    }
   ],
   "source": [
    "b"
   ]
  },
  {
   "cell_type": "code",
   "execution_count": 26,
   "id": "726a95c3-185c-46c4-96e6-2b3cc6d1b7bb",
   "metadata": {},
   "outputs": [],
   "source": [
    "x=frozenset([1,2,3,4])"
   ]
  },
  {
   "cell_type": "code",
   "execution_count": 27,
   "id": "a4586ea5-04f2-47ba-af6b-172f010061f3",
   "metadata": {},
   "outputs": [
    {
     "ename": "AttributeError",
     "evalue": "'frozenset' object has no attribute 'remove'",
     "output_type": "error",
     "traceback": [
      "\u001b[1;31m---------------------------------------------------------------------------\u001b[0m",
      "\u001b[1;31mAttributeError\u001b[0m                            Traceback (most recent call last)",
      "Cell \u001b[1;32mIn[27], line 1\u001b[0m\n\u001b[1;32m----> 1\u001b[0m \u001b[43mx\u001b[49m\u001b[38;5;241;43m.\u001b[39;49m\u001b[43mremove\u001b[49m(\u001b[38;5;241m1\u001b[39m)\n",
      "\u001b[1;31mAttributeError\u001b[0m: 'frozenset' object has no attribute 'remove'"
     ]
    }
   ],
   "source": [
    "x.remove(1)"
   ]
  },
  {
   "cell_type": "code",
   "execution_count": 28,
   "id": "acffc548-b10b-4924-978c-82e409fd3899",
   "metadata": {},
   "outputs": [
    {
     "data": {
      "text/plain": [
       "frozenset({1, 2, 3, 4})"
      ]
     },
     "execution_count": 28,
     "metadata": {},
     "output_type": "execute_result"
    }
   ],
   "source": [
    "x"
   ]
  },
  {
   "cell_type": "code",
   "execution_count": 29,
   "id": "d9b2867f-651b-4da1-9952-3222b6125f95",
   "metadata": {},
   "outputs": [
    {
     "name": "stdout",
     "output_type": "stream",
     "text": [
      "frozenset({1, 2, 3, 4})\n"
     ]
    }
   ],
   "source": [
    "print(x)"
   ]
  },
  {
   "cell_type": "code",
   "execution_count": null,
   "id": "d2160b84-4ca7-437d-b9d6-0036d0035948",
   "metadata": {},
   "outputs": [],
   "source": []
  }
 ],
 "metadata": {
  "kernelspec": {
   "display_name": "Python 3 (ipykernel)",
   "language": "python",
   "name": "python3"
  },
  "language_info": {
   "codemirror_mode": {
    "name": "ipython",
    "version": 3
   },
   "file_extension": ".py",
   "mimetype": "text/x-python",
   "name": "python",
   "nbconvert_exporter": "python",
   "pygments_lexer": "ipython3",
   "version": "3.12.5"
  }
 },
 "nbformat": 4,
 "nbformat_minor": 5
}
