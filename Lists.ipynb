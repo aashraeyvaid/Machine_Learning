{
 "cells": [
  {
   "cell_type": "code",
   "execution_count": 1,
   "id": "96033b18-f892-4862-8982-13059dab5e59",
   "metadata": {},
   "outputs": [
    {
     "name": "stdout",
     "output_type": "stream",
     "text": [
      "[1, 2, 3, 4, 5, 6, 7]\n",
      "[10, 20, 30, 40, 50, 60, 70]\n",
      "[]\n",
      "['abc', 'def', 'ghi', 'jkl']\n"
     ]
    }
   ],
   "source": [
    "a=[1,2,3,4,5,6,7]\n",
    "b=[10,20,30,40,50,60,70]\n",
    "c=[]\n",
    "d=['abc','def','ghi','jkl']\n",
    "print(a,b,c,d,sep='\\n')"
   ]
  },
  {
   "cell_type": "code",
   "execution_count": 2,
   "id": "e19be17a-6a52-4473-837e-9c3e4d201e21",
   "metadata": {},
   "outputs": [],
   "source": [
    "a.append(20)\n"
   ]
  },
  {
   "cell_type": "code",
   "execution_count": 3,
   "id": "87fce5d5-bf75-49ba-ad7a-31cacb1538fb",
   "metadata": {},
   "outputs": [
    {
     "data": {
      "text/plain": [
       "[1, 2, 3, 4, 5, 6, 7, 20]"
      ]
     },
     "execution_count": 3,
     "metadata": {},
     "output_type": "execute_result"
    }
   ],
   "source": [
    "a"
   ]
  },
  {
   "cell_type": "code",
   "execution_count": 4,
   "id": "318db17a-9b4f-4cc6-9cb3-c3fcc8da8b6f",
   "metadata": {},
   "outputs": [],
   "source": [
    "a.insert(30,1)"
   ]
  },
  {
   "cell_type": "code",
   "execution_count": 5,
   "id": "2722f6cf-f1ff-476e-a785-1220a0e7401a",
   "metadata": {},
   "outputs": [
    {
     "data": {
      "text/plain": [
       "[1, 2, 3, 4, 5, 6, 7, 20, 1]"
      ]
     },
     "execution_count": 5,
     "metadata": {},
     "output_type": "execute_result"
    }
   ],
   "source": [
    "a"
   ]
  },
  {
   "cell_type": "code",
   "execution_count": 6,
   "id": "81db4fef-970b-4918-898b-470878348809",
   "metadata": {},
   "outputs": [],
   "source": [
    "a.insert(1,30)"
   ]
  },
  {
   "cell_type": "code",
   "execution_count": 7,
   "id": "0d7703ed-e7d0-42e5-b11b-18bdd55a8fb2",
   "metadata": {},
   "outputs": [
    {
     "data": {
      "text/plain": [
       "[1, 30, 2, 3, 4, 5, 6, 7, 20, 1]"
      ]
     },
     "execution_count": 7,
     "metadata": {},
     "output_type": "execute_result"
    }
   ],
   "source": [
    "a\n"
   ]
  },
  {
   "cell_type": "code",
   "execution_count": 8,
   "id": "2693afcf-8370-4d4d-9612-a8772513ff71",
   "metadata": {},
   "outputs": [],
   "source": [
    "a.insert(-3,20)"
   ]
  },
  {
   "cell_type": "code",
   "execution_count": 9,
   "id": "76f471ac-ae4d-4c9a-bbe1-dfa150b23e95",
   "metadata": {},
   "outputs": [
    {
     "data": {
      "text/plain": [
       "[1, 30, 2, 3, 4, 5, 6, 20, 7, 20, 1]"
      ]
     },
     "execution_count": 9,
     "metadata": {},
     "output_type": "execute_result"
    }
   ],
   "source": [
    "a"
   ]
  },
  {
   "cell_type": "code",
   "execution_count": 10,
   "id": "e7763574-ec65-4dbd-90c0-7bc13f17952c",
   "metadata": {},
   "outputs": [],
   "source": [
    "a.remove(1)"
   ]
  },
  {
   "cell_type": "code",
   "execution_count": 11,
   "id": "8037bba9-09c5-4186-a6fb-7099a37f20d0",
   "metadata": {},
   "outputs": [
    {
     "data": {
      "text/plain": [
       "[30, 2, 3, 4, 5, 6, 20, 7, 20, 1]"
      ]
     },
     "execution_count": 11,
     "metadata": {},
     "output_type": "execute_result"
    }
   ],
   "source": [
    "a\n"
   ]
  },
  {
   "cell_type": "code",
   "execution_count": 12,
   "id": "af008ab4-9e48-4b72-a72c-ee57a0b21bf6",
   "metadata": {},
   "outputs": [],
   "source": [
    "b.extend(a)"
   ]
  },
  {
   "cell_type": "code",
   "execution_count": 13,
   "id": "742e6bb7-0dc1-4fa1-9ba5-2860952db4bc",
   "metadata": {},
   "outputs": [
    {
     "data": {
      "text/plain": [
       "[10, 20, 30, 40, 50, 60, 70, 30, 2, 3, 4, 5, 6, 20, 7, 20, 1]"
      ]
     },
     "execution_count": 13,
     "metadata": {},
     "output_type": "execute_result"
    }
   ],
   "source": [
    "b"
   ]
  },
  {
   "cell_type": "code",
   "execution_count": 14,
   "id": "a0f0624c-4393-4f65-b283-3874ecb1cc87",
   "metadata": {},
   "outputs": [],
   "source": [
    "d.extend('acbdef')"
   ]
  },
  {
   "cell_type": "code",
   "execution_count": 15,
   "id": "6208b062-f39d-449a-84fc-6d3919ed48f2",
   "metadata": {},
   "outputs": [
    {
     "data": {
      "text/plain": [
       "['abc', 'def', 'ghi', 'jkl', 'a', 'c', 'b', 'd', 'e', 'f']"
      ]
     },
     "execution_count": 15,
     "metadata": {},
     "output_type": "execute_result"
    }
   ],
   "source": [
    "d\n"
   ]
  },
  {
   "cell_type": "code",
   "execution_count": 16,
   "id": "ebf39889-4370-47e1-b584-2fcef23af275",
   "metadata": {},
   "outputs": [
    {
     "ename": "IndexError",
     "evalue": "pop from empty list",
     "output_type": "error",
     "traceback": [
      "\u001b[1;31m---------------------------------------------------------------------------\u001b[0m",
      "\u001b[1;31mIndexError\u001b[0m                                Traceback (most recent call last)",
      "Cell \u001b[1;32mIn[16], line 1\u001b[0m\n\u001b[1;32m----> 1\u001b[0m \u001b[43mc\u001b[49m\u001b[38;5;241;43m.\u001b[39;49m\u001b[43mpop\u001b[49m\u001b[43m(\u001b[49m\u001b[43m)\u001b[49m\n",
      "\u001b[1;31mIndexError\u001b[0m: pop from empty list"
     ]
    }
   ],
   "source": [
    "c.pop()\n"
   ]
  },
  {
   "cell_type": "code",
   "execution_count": 17,
   "id": "8e8e3e57-875f-494a-83f8-b5d02f9827cb",
   "metadata": {},
   "outputs": [
    {
     "data": {
      "text/plain": [
       "[]"
      ]
     },
     "execution_count": 17,
     "metadata": {},
     "output_type": "execute_result"
    }
   ],
   "source": [
    "c"
   ]
  },
  {
   "cell_type": "code",
   "execution_count": 18,
   "id": "a1dc67e1-13e4-489f-b151-3c01e1dbd41a",
   "metadata": {},
   "outputs": [],
   "source": [
    "del a[-1]"
   ]
  },
  {
   "cell_type": "code",
   "execution_count": 19,
   "id": "f0961b23-83b1-44b1-9099-4ba93efccf20",
   "metadata": {},
   "outputs": [
    {
     "data": {
      "text/plain": [
       "[30, 2, 3, 4, 5, 6, 20, 7, 20]"
      ]
     },
     "execution_count": 19,
     "metadata": {},
     "output_type": "execute_result"
    }
   ],
   "source": [
    "a\n"
   ]
  },
  {
   "cell_type": "code",
   "execution_count": 20,
   "id": "55bd0c46-163e-4ebf-a8d8-bc6c0c6e9800",
   "metadata": {},
   "outputs": [],
   "source": [
    "a.remove(7)"
   ]
  },
  {
   "cell_type": "code",
   "execution_count": 21,
   "id": "b2241dbb-5cca-4c5b-84ee-c3cb1e849331",
   "metadata": {},
   "outputs": [
    {
     "data": {
      "text/plain": [
       "[30, 2, 3, 4, 5, 6, 20, 20]"
      ]
     },
     "execution_count": 21,
     "metadata": {},
     "output_type": "execute_result"
    }
   ],
   "source": [
    "a"
   ]
  },
  {
   "cell_type": "code",
   "execution_count": 22,
   "id": "b5c70b74-0c2a-426c-853d-dc3177b6437e",
   "metadata": {},
   "outputs": [],
   "source": [
    "a.remove(20)"
   ]
  },
  {
   "cell_type": "code",
   "execution_count": 23,
   "id": "0b7c4e11-6a27-445e-9af9-3861ec0cfa97",
   "metadata": {},
   "outputs": [
    {
     "data": {
      "text/plain": [
       "[30, 2, 3, 4, 5, 6, 20]"
      ]
     },
     "execution_count": 23,
     "metadata": {},
     "output_type": "execute_result"
    }
   ],
   "source": [
    "a"
   ]
  },
  {
   "cell_type": "code",
   "execution_count": 24,
   "id": "0dda6027-aeb2-4971-b3db-5f0a9e2b0680",
   "metadata": {},
   "outputs": [],
   "source": [
    "e=a.reverse()"
   ]
  },
  {
   "cell_type": "code",
   "execution_count": 25,
   "id": "c8ca39ea-e65b-4939-9026-fdeb5b9432f3",
   "metadata": {},
   "outputs": [],
   "source": [
    "e"
   ]
  },
  {
   "cell_type": "code",
   "execution_count": 26,
   "id": "a3065a69-91fd-48ee-b0b8-3f724aa329ae",
   "metadata": {},
   "outputs": [
    {
     "data": {
      "text/plain": [
       "[20, 6, 5, 4, 3, 2, 30]"
      ]
     },
     "execution_count": 26,
     "metadata": {},
     "output_type": "execute_result"
    }
   ],
   "source": [
    "a"
   ]
  },
  {
   "cell_type": "code",
   "execution_count": 27,
   "id": "d6071efe-cae9-4855-9cd6-b22fcd371d50",
   "metadata": {},
   "outputs": [],
   "source": [
    "e"
   ]
  },
  {
   "cell_type": "code",
   "execution_count": 28,
   "id": "e0f20059-eb5c-4b30-b7d4-668d6098746f",
   "metadata": {},
   "outputs": [
    {
     "name": "stdout",
     "output_type": "stream",
     "text": [
      "None\n"
     ]
    }
   ],
   "source": [
    "print(e)"
   ]
  },
  {
   "cell_type": "code",
   "execution_count": 29,
   "id": "0613c372-18e6-44c3-a03f-39be87815f21",
   "metadata": {},
   "outputs": [],
   "source": [
    "e=sorted(a)"
   ]
  },
  {
   "cell_type": "code",
   "execution_count": 30,
   "id": "24cce4e7-58c3-4248-af37-f6bdf91893f8",
   "metadata": {},
   "outputs": [
    {
     "data": {
      "text/plain": [
       "[2, 3, 4, 5, 6, 20, 30]"
      ]
     },
     "execution_count": 30,
     "metadata": {},
     "output_type": "execute_result"
    }
   ],
   "source": [
    "e"
   ]
  },
  {
   "cell_type": "code",
   "execution_count": 31,
   "id": "0f613043-9455-4e50-997f-a5e2f405937b",
   "metadata": {},
   "outputs": [],
   "source": [
    "a.sort()"
   ]
  },
  {
   "cell_type": "code",
   "execution_count": 32,
   "id": "87cf4bb5-7c93-44f5-8d5c-105f54f804e7",
   "metadata": {},
   "outputs": [
    {
     "data": {
      "text/plain": [
       "[2, 3, 4, 5, 6, 20, 30]"
      ]
     },
     "execution_count": 32,
     "metadata": {},
     "output_type": "execute_result"
    }
   ],
   "source": [
    "a"
   ]
  },
  {
   "cell_type": "code",
   "execution_count": 33,
   "id": "721800ac-7ab1-4a51-bed0-a9e615352c55",
   "metadata": {},
   "outputs": [],
   "source": [
    "a.sort(reverse=True)"
   ]
  },
  {
   "cell_type": "code",
   "execution_count": 34,
   "id": "70323747-b664-4069-930e-1724859a15a9",
   "metadata": {},
   "outputs": [
    {
     "data": {
      "text/plain": [
       "[30, 20, 6, 5, 4, 3, 2]"
      ]
     },
     "execution_count": 34,
     "metadata": {},
     "output_type": "execute_result"
    }
   ],
   "source": [
    "a"
   ]
  },
  {
   "cell_type": "code",
   "execution_count": 35,
   "id": "0a7c1db1-b9a1-46ec-8b51-083ad55fccc3",
   "metadata": {},
   "outputs": [
    {
     "data": {
      "text/plain": [
       "[2, 3, 4, 5, 6, 20, 30]"
      ]
     },
     "execution_count": 35,
     "metadata": {},
     "output_type": "execute_result"
    }
   ],
   "source": [
    "e"
   ]
  },
  {
   "cell_type": "code",
   "execution_count": 36,
   "id": "2f85fcf3-2859-4728-9626-0d0dfbe776f4",
   "metadata": {},
   "outputs": [],
   "source": [
    "x=a.sort()"
   ]
  },
  {
   "cell_type": "code",
   "execution_count": 37,
   "id": "5ee4462b-3012-485f-8c14-d674ad0fab5f",
   "metadata": {},
   "outputs": [],
   "source": [
    "x"
   ]
  },
  {
   "cell_type": "code",
   "execution_count": 38,
   "id": "dc13f108-8a15-4ad4-9e9c-a275e5a87f05",
   "metadata": {},
   "outputs": [],
   "source": [
    "s=\"I am an engineer who will bring revolution to this world.\"\n",
    "x=s.split()"
   ]
  },
  {
   "cell_type": "code",
   "execution_count": 39,
   "id": "c7742e0a-05bb-4b9c-8630-660614f034cf",
   "metadata": {},
   "outputs": [
    {
     "data": {
      "text/plain": [
       "['I',\n",
       " 'am',\n",
       " 'an',\n",
       " 'engineer',\n",
       " 'who',\n",
       " 'will',\n",
       " 'bring',\n",
       " 'revolution',\n",
       " 'to',\n",
       " 'this',\n",
       " 'world.']"
      ]
     },
     "execution_count": 39,
     "metadata": {},
     "output_type": "execute_result"
    }
   ],
   "source": [
    "x"
   ]
  },
  {
   "cell_type": "code",
   "execution_count": 41,
   "id": "fc3955a3-0ada-4004-a63e-33d13028e6ac",
   "metadata": {},
   "outputs": [
    {
     "data": {
      "text/plain": [
       "['I am an engineer who will bring revolution to this world', '']"
      ]
     },
     "execution_count": 41,
     "metadata": {},
     "output_type": "execute_result"
    }
   ],
   "source": [
    "s.split('.')"
   ]
  },
  {
   "cell_type": "code",
   "execution_count": 63,
   "id": "9828de1c-5b1e-415e-ae56-eaad5f1e43e2",
   "metadata": {},
   "outputs": [
    {
     "data": {
      "text/plain": [
       "[10, 20, 30, 30, 40, 50, 7, 20, 1]"
      ]
     },
     "execution_count": 63,
     "metadata": {},
     "output_type": "execute_result"
    }
   ],
   "source": [
    "b"
   ]
  },
  {
   "cell_type": "code",
   "execution_count": 61,
   "id": "5566e41e-8d57-4b4d-b015-6c5df590cd59",
   "metadata": {},
   "outputs": [],
   "source": [
    "b[3:7]=[30,40,50]"
   ]
  },
  {
   "cell_type": "code",
   "execution_count": 62,
   "id": "761fde27-6fc7-4565-8742-2ee18fa8cfb9",
   "metadata": {},
   "outputs": [
    {
     "data": {
      "text/plain": [
       "[10, 20, 30, 30, 40, 50, 7, 20, 1]"
      ]
     },
     "execution_count": 62,
     "metadata": {},
     "output_type": "execute_result"
    }
   ],
   "source": [
    "b"
   ]
  },
  {
   "cell_type": "code",
   "execution_count": 64,
   "id": "b41fdb38-b417-4315-b90b-9f11a68e3b3c",
   "metadata": {},
   "outputs": [],
   "source": [
    "sq=[i**2 for i in range(10)]"
   ]
  },
  {
   "cell_type": "code",
   "execution_count": 65,
   "id": "35f149a3-b451-4735-8274-754d64804adb",
   "metadata": {},
   "outputs": [
    {
     "data": {
      "text/plain": [
       "[0, 1, 4, 9, 16, 25, 36, 49, 64, 81]"
      ]
     },
     "execution_count": 65,
     "metadata": {},
     "output_type": "execute_result"
    }
   ],
   "source": [
    "sq"
   ]
  },
  {
   "cell_type": "code",
   "execution_count": 66,
   "id": "e665a0ef-f6a3-4645-a60f-e0630191a480",
   "metadata": {},
   "outputs": [
    {
     "data": {
      "text/plain": [
       "'I am an engineer who will bring revolution to this world.'"
      ]
     },
     "execution_count": 66,
     "metadata": {},
     "output_type": "execute_result"
    }
   ],
   "source": [
    "s"
   ]
  },
  {
   "cell_type": "code",
   "execution_count": 68,
   "id": "fbb8ce65-3ee4-437d-a9f6-449e8804d1c2",
   "metadata": {},
   "outputs": [],
   "source": [
    "l=[i for i in s]"
   ]
  },
  {
   "cell_type": "code",
   "execution_count": 70,
   "id": "99f0944c-2eed-4e2a-9e46-50dcda2d4554",
   "metadata": {},
   "outputs": [],
   "source": [
    "del l"
   ]
  },
  {
   "cell_type": "code",
   "execution_count": 72,
   "id": "d53d94ae-8351-4de6-b954-2858a25ec969",
   "metadata": {},
   "outputs": [
    {
     "data": {
      "text/plain": [
       "[2, 3, 4, 5, 6, 20, 30]"
      ]
     },
     "execution_count": 72,
     "metadata": {},
     "output_type": "execute_result"
    }
   ],
   "source": [
    "a"
   ]
  },
  {
   "cell_type": "code",
   "execution_count": 73,
   "id": "411c3d65-d558-43d1-9fbd-0126afff4b29",
   "metadata": {},
   "outputs": [],
   "source": [
    "m=[i for i in a if i>10]"
   ]
  },
  {
   "cell_type": "code",
   "execution_count": 74,
   "id": "3ceff43d-c86d-4017-aece-432d84438ce8",
   "metadata": {},
   "outputs": [
    {
     "data": {
      "text/plain": [
       "[20, 30]"
      ]
     },
     "execution_count": 74,
     "metadata": {},
     "output_type": "execute_result"
    }
   ],
   "source": [
    "m"
   ]
  },
  {
   "cell_type": "code",
   "execution_count": 76,
   "id": "1f8f2e6c-ce55-447e-ba37-0a8bd8db0370",
   "metadata": {},
   "outputs": [],
   "source": [
    "m=[[1,2,3,4],\n",
    "  [5,6,7,8],\n",
    "  [9,10,11,12],\n",
    "  [13,14,15,16]]"
   ]
  },
  {
   "cell_type": "code",
   "execution_count": 86,
   "id": "e8a845c2-6a95-4c74-b78b-6ca4ac3bf82f",
   "metadata": {},
   "outputs": [],
   "source": [
    "t=[[m[j][i] for j in range (4)] for i in range(4)]"
   ]
  },
  {
   "cell_type": "code",
   "execution_count": 87,
   "id": "bc5bd35f-46c1-472a-9b86-9701b1794b60",
   "metadata": {},
   "outputs": [
    {
     "data": {
      "text/plain": [
       "[[1, 5, 9, 13], [2, 6, 10, 14], [3, 7, 11, 15], [4, 8, 12, 16]]"
      ]
     },
     "execution_count": 87,
     "metadata": {},
     "output_type": "execute_result"
    }
   ],
   "source": [
    "t"
   ]
  },
  {
   "cell_type": "code",
   "execution_count": null,
   "id": "a1fd98b1-d7a6-4547-ac33-75e55ba4c1cf",
   "metadata": {},
   "outputs": [],
   "source": []
  }
 ],
 "metadata": {
  "kernelspec": {
   "display_name": "Python 3 (ipykernel)",
   "language": "python",
   "name": "python3"
  },
  "language_info": {
   "codemirror_mode": {
    "name": "ipython",
    "version": 3
   },
   "file_extension": ".py",
   "mimetype": "text/x-python",
   "name": "python",
   "nbconvert_exporter": "python",
   "pygments_lexer": "ipython3",
   "version": "3.12.5"
  }
 },
 "nbformat": 4,
 "nbformat_minor": 5
}
