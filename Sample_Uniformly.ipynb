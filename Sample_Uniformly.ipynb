{
 "cells": [
  {
   "cell_type": "code",
   "execution_count": 2,
   "id": "cd29e9be-75fc-48a4-a6aa-dc77dc953f0b",
   "metadata": {},
   "outputs": [
    {
     "name": "stdout",
     "output_type": "stream",
     "text": [
      "0.8245558455492658\n"
     ]
    }
   ],
   "source": [
    "import random\n",
    "print(random.random())                    #returns a random value between 0 and 1"
   ]
  },
  {
   "cell_type": "code",
   "execution_count": 4,
   "id": "a7203ce9-e78d-4cc8-a809-356ddf549d08",
   "metadata": {},
   "outputs": [
    {
     "data": {
      "text/plain": [
       "(150, 4)"
      ]
     },
     "execution_count": 4,
     "metadata": {},
     "output_type": "execute_result"
    }
   ],
   "source": [
    "#loading iris dataset using python library sklearn\n",
    "from sklearn import datasets\n",
    "iris=datasets.load_iris()\n",
    "d=iris.data\n",
    "d.shape"
   ]
  },
  {
   "cell_type": "code",
   "execution_count": 8,
   "id": "496369de-df4e-4df7-adb4-ef340577fbfe",
   "metadata": {},
   "outputs": [],
   "source": [
    "n=150\n",
    "m=30\n",
    "p=m/n\n",
    "l=[]\n",
    "for i in range(n):\n",
    "    if random.random()<p:\n",
    "        l.append(d[i,:])"
   ]
  },
  {
   "cell_type": "code",
   "execution_count": 6,
   "id": "9400530a-7e8a-43f6-8e22-39f4cee06bda",
   "metadata": {},
   "outputs": [
    {
     "data": {
      "text/plain": [
       "[array([5.8, 4. , 1.2, 0.2]),\n",
       " array([5.7, 4.4, 1.5, 0.4]),\n",
       " array([5.1, 3.5, 1.4, 0.3]),\n",
       " array([5. , 3.4, 1.6, 0.4]),\n",
       " array([5.5, 4.2, 1.4, 0.2]),\n",
       " array([4.9, 3.1, 1.5, 0.2]),\n",
       " array([6.1, 2.9, 4.7, 1.4]),\n",
       " array([6.7, 3.1, 4.4, 1.4]),\n",
       " array([5.8, 2.7, 4.1, 1. ]),\n",
       " array([6.1, 2.8, 4. , 1.3]),\n",
       " array([6. , 2.9, 4.5, 1.5]),\n",
       " array([5.7, 2.6, 3.5, 1. ]),\n",
       " array([5.8, 2.7, 3.9, 1.2]),\n",
       " array([6. , 2.7, 5.1, 1.6]),\n",
       " array([5.5, 2.5, 4. , 1.3]),\n",
       " array([5.8, 2.6, 4. , 1.2]),\n",
       " array([5.6, 2.7, 4.2, 1.3]),\n",
       " array([5.1, 2.5, 3. , 1.1]),\n",
       " array([6.3, 3.3, 6. , 2.5]),\n",
       " array([6.5, 3. , 5.8, 2.2]),\n",
       " array([6. , 2.2, 5. , 1.5]),\n",
       " array([6.9, 3.2, 5.7, 2.3]),\n",
       " array([5.6, 2.8, 4.9, 2. ]),\n",
       " array([6.3, 2.7, 4.9, 1.8]),\n",
       " array([7.2, 3.2, 6. , 1.8]),\n",
       " array([6.2, 2.8, 4.8, 1.8]),\n",
       " array([7.2, 3. , 5.8, 1.6]),\n",
       " array([6.1, 2.6, 5.6, 1.4]),\n",
       " array([6.7, 3. , 5.2, 2.3])]"
      ]
     },
     "execution_count": 6,
     "metadata": {},
     "output_type": "execute_result"
    }
   ],
   "source": [
    "l"
   ]
  },
  {
   "cell_type": "code",
   "execution_count": null,
   "id": "1fce84c9-22a1-42a5-b3d9-5dd09cdcb91b",
   "metadata": {},
   "outputs": [],
   "source": []
  }
 ],
 "metadata": {
  "kernelspec": {
   "display_name": "Python 3 (ipykernel)",
   "language": "python",
   "name": "python3"
  },
  "language_info": {
   "codemirror_mode": {
    "name": "ipython",
    "version": 3
   },
   "file_extension": ".py",
   "mimetype": "text/x-python",
   "name": "python",
   "nbconvert_exporter": "python",
   "pygments_lexer": "ipython3",
   "version": "3.12.5"
  }
 },
 "nbformat": 4,
 "nbformat_minor": 5
}
