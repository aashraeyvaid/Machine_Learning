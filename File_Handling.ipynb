{
 "cells": [
  {
   "cell_type": "code",
   "execution_count": 2,
   "id": "5ac508ea-cd5d-487e-80c6-3b13ee32664e",
   "metadata": {},
   "outputs": [],
   "source": [
    "myfile=open('First_Text_File.txt','w')"
   ]
  },
  {
   "cell_type": "code",
   "execution_count": 3,
   "id": "53bbdba3-87ad-47ed-88d3-7a230759a79d",
   "metadata": {},
   "outputs": [
    {
     "data": {
      "text/plain": [
       "'Character and line based layer over a BufferedIOBase object, buffer.\\n\\nencoding gives the name of the encoding that the stream will be\\ndecoded or encoded with. It defaults to locale.getencoding().\\n\\nerrors determines the strictness of encoding and decoding (see\\nhelp(codecs.Codec) or the documentation for codecs.register) and\\ndefaults to \"strict\".\\n\\nnewline controls how line endings are handled. It can be None, \\'\\',\\n\\'\\\\n\\', \\'\\\\r\\', and \\'\\\\r\\\\n\\'.  It works as follows:\\n\\n* On input, if newline is None, universal newlines mode is\\n  enabled. Lines in the input can end in \\'\\\\n\\', \\'\\\\r\\', or \\'\\\\r\\\\n\\', and\\n  these are translated into \\'\\\\n\\' before being returned to the\\n  caller. If it is \\'\\', universal newline mode is enabled, but line\\n  endings are returned to the caller untranslated. If it has any of\\n  the other legal values, input lines are only terminated by the given\\n  string, and the line ending is returned to the caller untranslated.\\n\\n* On output, if newline is None, any \\'\\\\n\\' characters written are\\n  translated to the system default line separator, os.linesep. If\\n  newline is \\'\\' or \\'\\\\n\\', no translation takes place. If newline is any\\n  of the other legal values, any \\'\\\\n\\' characters written are translated\\n  to the given string.\\n\\nIf line_buffering is True, a call to flush is implied when a call to\\nwrite contains a newline character.'"
      ]
     },
     "execution_count": 3,
     "metadata": {},
     "output_type": "execute_result"
    }
   ],
   "source": [
    "myfile.__doc__"
   ]
  },
  {
   "cell_type": "code",
   "execution_count": 4,
   "id": "19a71af9-1af6-436d-8921-22f0a05ef9f1",
   "metadata": {},
   "outputs": [
    {
     "data": {
      "text/plain": [
       "['_CHUNK_SIZE',\n",
       " '__class__',\n",
       " '__del__',\n",
       " '__delattr__',\n",
       " '__dict__',\n",
       " '__dir__',\n",
       " '__doc__',\n",
       " '__enter__',\n",
       " '__eq__',\n",
       " '__exit__',\n",
       " '__format__',\n",
       " '__ge__',\n",
       " '__getattribute__',\n",
       " '__getstate__',\n",
       " '__gt__',\n",
       " '__hash__',\n",
       " '__init__',\n",
       " '__init_subclass__',\n",
       " '__iter__',\n",
       " '__le__',\n",
       " '__lt__',\n",
       " '__module__',\n",
       " '__ne__',\n",
       " '__new__',\n",
       " '__next__',\n",
       " '__reduce__',\n",
       " '__reduce_ex__',\n",
       " '__repr__',\n",
       " '__setattr__',\n",
       " '__sizeof__',\n",
       " '__str__',\n",
       " '__subclasshook__',\n",
       " '_checkClosed',\n",
       " '_checkReadable',\n",
       " '_checkSeekable',\n",
       " '_checkWritable',\n",
       " '_finalizing',\n",
       " 'buffer',\n",
       " 'close',\n",
       " 'closed',\n",
       " 'detach',\n",
       " 'encoding',\n",
       " 'errors',\n",
       " 'fileno',\n",
       " 'flush',\n",
       " 'isatty',\n",
       " 'line_buffering',\n",
       " 'mode',\n",
       " 'name',\n",
       " 'newlines',\n",
       " 'read',\n",
       " 'readable',\n",
       " 'readline',\n",
       " 'readlines',\n",
       " 'reconfigure',\n",
       " 'seek',\n",
       " 'seekable',\n",
       " 'tell',\n",
       " 'truncate',\n",
       " 'writable',\n",
       " 'write',\n",
       " 'write_through',\n",
       " 'writelines']"
      ]
     },
     "execution_count": 4,
     "metadata": {},
     "output_type": "execute_result"
    }
   ],
   "source": [
    "dir(myfile)"
   ]
  },
  {
   "cell_type": "code",
   "execution_count": 5,
   "id": "6841f967-39d4-441a-b973-ba6cb3ee0cbf",
   "metadata": {},
   "outputs": [
    {
     "data": {
      "text/plain": [
       "26"
      ]
     },
     "execution_count": 5,
     "metadata": {},
     "output_type": "execute_result"
    }
   ],
   "source": [
    "myfile.write('My name is Aashraey Vaid.\\n')"
   ]
  },
  {
   "cell_type": "code",
   "execution_count": 6,
   "id": "27a3a46a-1717-4ab2-a59a-11ac39a4da70",
   "metadata": {},
   "outputs": [
    {
     "data": {
      "text/plain": [
       "33"
      ]
     },
     "execution_count": 6,
     "metadata": {},
     "output_type": "execute_result"
    }
   ],
   "source": [
    "myfile.write('I am a Mahcine Learning student.\\n')"
   ]
  },
  {
   "cell_type": "code",
   "execution_count": 7,
   "id": "8e874988-cb3c-4177-9114-3e52b9145727",
   "metadata": {},
   "outputs": [
    {
     "data": {
      "text/plain": [
       "32"
      ]
     },
     "execution_count": 7,
     "metadata": {},
     "output_type": "execute_result"
    }
   ],
   "source": [
    "myfile.write('AI is the future of this world.\\n')"
   ]
  },
  {
   "cell_type": "code",
   "execution_count": 9,
   "id": "c8ef8f89-1443-4997-a1ee-b17a2497a894",
   "metadata": {},
   "outputs": [
    {
     "data": {
      "text/plain": [
       "27"
      ]
     },
     "execution_count": 9,
     "metadata": {},
     "output_type": "execute_result"
    }
   ],
   "source": [
    "myfile.write('Come let\\'s learn together.\\n')"
   ]
  },
  {
   "cell_type": "code",
   "execution_count": 10,
   "id": "5e809793-5ba1-4ee3-a39c-a9a2e25f413d",
   "metadata": {},
   "outputs": [],
   "source": [
    "myfile.flush()"
   ]
  },
  {
   "cell_type": "code",
   "execution_count": 12,
   "id": "82a7e10f-b50a-4856-805e-0d54f6227437",
   "metadata": {},
   "outputs": [],
   "source": [
    "myfile.close()"
   ]
  },
  {
   "cell_type": "code",
   "execution_count": 20,
   "id": "315aed2d-c0c0-43b2-9689-21efc7edb7f3",
   "metadata": {},
   "outputs": [],
   "source": [
    "with open('First_Text_File.txt','r') as myfile:\n",
    "    content=myfile.read(27)"
   ]
  },
  {
   "cell_type": "code",
   "execution_count": 21,
   "id": "fa79bb63-42d8-4be2-b9d7-9e3edc19ee01",
   "metadata": {},
   "outputs": [
    {
     "data": {
      "text/plain": [
       "'My name is Aashraey Vaid.\\nI'"
      ]
     },
     "execution_count": 21,
     "metadata": {},
     "output_type": "execute_result"
    }
   ],
   "source": [
    "content"
   ]
  },
  {
   "cell_type": "code",
   "execution_count": 23,
   "id": "65e8c0b4-ccf0-4be8-9fed-71d26788b254",
   "metadata": {},
   "outputs": [],
   "source": [
    "myfile=open('First_Text_File.txt','r')"
   ]
  },
  {
   "cell_type": "raw",
   "id": "7e72f548-a208-41c2-92e9-a57c3e95a1dd",
   "metadata": {},
   "source": [
    "myfile.read()"
   ]
  },
  {
   "cell_type": "code",
   "execution_count": 24,
   "id": "e1a61163-37b5-4329-8f47-ccc0e9f5364b",
   "metadata": {},
   "outputs": [
    {
     "data": {
      "text/plain": [
       "\"My name is Aashraey Vaid.\\nI am a Mahcine Learning student.\\nAI is the future of this world.\\nCome let's learn together.\\n\""
      ]
     },
     "execution_count": 24,
     "metadata": {},
     "output_type": "execute_result"
    }
   ],
   "source": [
    "myfile.read()"
   ]
  },
  {
   "cell_type": "code",
   "execution_count": 27,
   "id": "082d3352-982e-40d5-bf7a-96f808bb8606",
   "metadata": {},
   "outputs": [
    {
     "data": {
      "text/plain": [
       "0"
      ]
     },
     "execution_count": 27,
     "metadata": {},
     "output_type": "execute_result"
    }
   ],
   "source": [
    "myfile.seek(0)"
   ]
  },
  {
   "cell_type": "code",
   "execution_count": 26,
   "id": "9df29dbe-4e71-4128-9a12-b6d8548f969c",
   "metadata": {},
   "outputs": [
    {
     "data": {
      "text/plain": [
       "26"
      ]
     },
     "execution_count": 26,
     "metadata": {},
     "output_type": "execute_result"
    }
   ],
   "source": [
    "myfile.seek(26)"
   ]
  },
  {
   "cell_type": "code",
   "execution_count": 28,
   "id": "3139ae94-a53a-432f-babb-8cb7b4921e6e",
   "metadata": {},
   "outputs": [
    {
     "data": {
      "text/plain": [
       "'My name is Aashraey Vaid.\\n'"
      ]
     },
     "execution_count": 28,
     "metadata": {},
     "output_type": "execute_result"
    }
   ],
   "source": [
    "myfile.read(26)"
   ]
  },
  {
   "cell_type": "code",
   "execution_count": 29,
   "id": "e7434472-cbca-4782-a169-c7163aa14fa0",
   "metadata": {},
   "outputs": [
    {
     "data": {
      "text/plain": [
       "'I'"
      ]
     },
     "execution_count": 29,
     "metadata": {},
     "output_type": "execute_result"
    }
   ],
   "source": [
    "myfile.readline(1)"
   ]
  },
  {
   "cell_type": "code",
   "execution_count": 30,
   "id": "f714da87-e4a2-4c2c-83b9-efc0513ccd57",
   "metadata": {},
   "outputs": [
    {
     "data": {
      "text/plain": [
       "' am a Mahc'"
      ]
     },
     "execution_count": 30,
     "metadata": {},
     "output_type": "execute_result"
    }
   ],
   "source": [
    "myfile.readline(10)"
   ]
  },
  {
   "cell_type": "code",
   "execution_count": 32,
   "id": "4dfc478c-5e53-48ee-83d4-024f73cbe02e",
   "metadata": {},
   "outputs": [
    {
     "data": {
      "text/plain": [
       "['ne Learning student.\\n']"
      ]
     },
     "execution_count": 32,
     "metadata": {},
     "output_type": "execute_result"
    }
   ],
   "source": [
    "myfile.readlines(1)"
   ]
  },
  {
   "cell_type": "code",
   "execution_count": 33,
   "id": "b416b048-8187-4cd2-93b3-d84ecbb056f1",
   "metadata": {},
   "outputs": [],
   "source": [
    "myfile.close()"
   ]
  },
  {
   "cell_type": "code",
   "execution_count": 34,
   "id": "219a20c6-50f7-4f54-aab9-83c17ec151b4",
   "metadata": {},
   "outputs": [],
   "source": [
    "import pickle"
   ]
  },
  {
   "cell_type": "code",
   "execution_count": 35,
   "id": "25145c0c-897e-4a48-b292-e31b1fa2e9c3",
   "metadata": {},
   "outputs": [],
   "source": [
    "myfile=open('First_Binary_File.dat','wb+')"
   ]
  },
  {
   "cell_type": "code",
   "execution_count": 36,
   "id": "bf554043-9258-4a61-9a2c-f3ce3b8c9fb6",
   "metadata": {},
   "outputs": [],
   "source": [
    "pickle.dump({'Name':'Aashraey Vaid','Course':'CSE(H)- AIML','UID':'24BAI70187'},myfile)"
   ]
  },
  {
   "cell_type": "code",
   "execution_count": 37,
   "id": "0f669e55-e61b-4cdb-9d55-a9ee529f5107",
   "metadata": {},
   "outputs": [
    {
     "ename": "EOFError",
     "evalue": "Ran out of input",
     "output_type": "error",
     "traceback": [
      "\u001b[1;31m---------------------------------------------------------------------------\u001b[0m",
      "\u001b[1;31mEOFError\u001b[0m                                  Traceback (most recent call last)",
      "Cell \u001b[1;32mIn[37], line 1\u001b[0m\n\u001b[1;32m----> 1\u001b[0m \u001b[43mpickle\u001b[49m\u001b[38;5;241;43m.\u001b[39;49m\u001b[43mload\u001b[49m\u001b[43m(\u001b[49m\u001b[43mmyfile\u001b[49m\u001b[43m)\u001b[49m\n",
      "\u001b[1;31mEOFError\u001b[0m: Ran out of input"
     ]
    }
   ],
   "source": [
    "pickle.load(myfile)"
   ]
  },
  {
   "cell_type": "code",
   "execution_count": 38,
   "id": "6607d4c5-b2fd-4065-a497-a9cfcc941bf6",
   "metadata": {},
   "outputs": [
    {
     "data": {
      "text/plain": [
       "0"
      ]
     },
     "execution_count": 38,
     "metadata": {},
     "output_type": "execute_result"
    }
   ],
   "source": [
    "myfile.seek(0)"
   ]
  },
  {
   "cell_type": "code",
   "execution_count": 39,
   "id": "69389d74-ad7e-4671-993c-cf4b1bb5d8b3",
   "metadata": {},
   "outputs": [
    {
     "data": {
      "text/plain": [
       "{'Name': 'Aashraey Vaid', 'Course': 'CSE(H)- AIML', 'UID': '24BAI70187'}"
      ]
     },
     "execution_count": 39,
     "metadata": {},
     "output_type": "execute_result"
    }
   ],
   "source": [
    "pickle.load(myfile)"
   ]
  },
  {
   "cell_type": "code",
   "execution_count": 43,
   "id": "a53009b8-6192-4aa3-b9cf-f4e958c84b24",
   "metadata": {},
   "outputs": [
    {
     "data": {
      "text/plain": [
       "0"
      ]
     },
     "execution_count": 43,
     "metadata": {},
     "output_type": "execute_result"
    }
   ],
   "source": [
    "myfile.tell()"
   ]
  },
  {
   "cell_type": "code",
   "execution_count": 44,
   "id": "d933734f-dae6-41cc-8920-5c3bd342e81d",
   "metadata": {},
   "outputs": [
    {
     "data": {
      "text/plain": [
       "{'Name': 'Aashraey Vaid', 'Course': 'CSE(H)- AIML', 'UID': '24BAI70187'}"
      ]
     },
     "execution_count": 44,
     "metadata": {},
     "output_type": "execute_result"
    }
   ],
   "source": [
    "pickle.load(myfile)"
   ]
  },
  {
   "cell_type": "code",
   "execution_count": 45,
   "id": "66f53db2-a3c2-45da-8c7c-4f0ee0393e3d",
   "metadata": {},
   "outputs": [
    {
     "data": {
      "text/plain": [
       "82"
      ]
     },
     "execution_count": 45,
     "metadata": {},
     "output_type": "execute_result"
    }
   ],
   "source": [
    "myfile.tell()"
   ]
  },
  {
   "cell_type": "code",
   "execution_count": 47,
   "id": "8ba90593-ae73-47ff-8ae2-e73bd290e76c",
   "metadata": {},
   "outputs": [],
   "source": [
    "pickle.dump({'Name':'Aditya Bhatia','Course':'CSE(H)- AIML','UID':'24BAI70084'},myfile)"
   ]
  },
  {
   "cell_type": "code",
   "execution_count": 48,
   "id": "9ca2c651-4555-48f7-becd-f290bf4b7815",
   "metadata": {},
   "outputs": [],
   "source": [
    "pickle.dump({'Name':'Jaskirat Singh Thind','Course':'CSE(H)- AIML','UID':'24BAI70110'},myfile)"
   ]
  },
  {
   "cell_type": "code",
   "execution_count": 49,
   "id": "bf076c6b-6e93-48d9-9944-864178275062",
   "metadata": {},
   "outputs": [],
   "source": [
    "pickle.dump({'Name':'Naitik Singh','Course':'CSE','UID':'24BCS10118'},myfile)"
   ]
  },
  {
   "cell_type": "code",
   "execution_count": 50,
   "id": "aa7caba7-8924-4b21-910a-fd8000eed15c",
   "metadata": {},
   "outputs": [],
   "source": [
    "myfile.close()"
   ]
  },
  {
   "cell_type": "code",
   "execution_count": 51,
   "id": "ac7e4900-9bda-408c-8d8f-9dd58e14f6a8",
   "metadata": {},
   "outputs": [],
   "source": [
    "myfile=open('First_Text_File.txt','r')"
   ]
  },
  {
   "cell_type": "code",
   "execution_count": 60,
   "id": "24e548e0-76d0-40fc-a02f-c46161ed7176",
   "metadata": {},
   "outputs": [
    {
     "ename": "UnsupportedOperation",
     "evalue": "can't do nonzero cur-relative seeks",
     "output_type": "error",
     "traceback": [
      "\u001b[1;31m---------------------------------------------------------------------------\u001b[0m",
      "\u001b[1;31mUnsupportedOperation\u001b[0m                      Traceback (most recent call last)",
      "Cell \u001b[1;32mIn[60], line 1\u001b[0m\n\u001b[1;32m----> 1\u001b[0m \u001b[43mmyfile\u001b[49m\u001b[38;5;241;43m.\u001b[39;49m\u001b[43mseek\u001b[49m\u001b[43m(\u001b[49m\u001b[38;5;241;43m-\u001b[39;49m\u001b[38;5;241;43m2\u001b[39;49m\u001b[43m,\u001b[49m\u001b[38;5;241;43m1\u001b[39;49m\u001b[43m)\u001b[49m\n",
      "\u001b[1;31mUnsupportedOperation\u001b[0m: can't do nonzero cur-relative seeks"
     ]
    }
   ],
   "source": [
    "myfile.seek(-2,1)"
   ]
  },
  {
   "cell_type": "code",
   "execution_count": 61,
   "id": "43a582db-f25b-41da-b9da-eda2b0df6d83",
   "metadata": {},
   "outputs": [],
   "source": [
    "myfile.close()"
   ]
  },
  {
   "cell_type": "code",
   "execution_count": 62,
   "id": "b2d563d0-3fb7-4a0d-b08f-4adeb18adf7d",
   "metadata": {},
   "outputs": [],
   "source": [
    "myfile=open('First_Binary_File.dat','rb+')"
   ]
  },
  {
   "cell_type": "code",
   "execution_count": 65,
   "id": "892ede61-db94-4d27-827e-156819438683",
   "metadata": {},
   "outputs": [
    {
     "data": {
      "text/plain": [
       "323"
      ]
     },
     "execution_count": 65,
     "metadata": {},
     "output_type": "execute_result"
    }
   ],
   "source": [
    "myfile.seek(-2,2)"
   ]
  },
  {
   "cell_type": "code",
   "execution_count": 66,
   "id": "eab2b82f-865c-436f-8614-13fd79e1f4f4",
   "metadata": {},
   "outputs": [
    {
     "data": {
      "text/plain": [
       "313"
      ]
     },
     "execution_count": 66,
     "metadata": {},
     "output_type": "execute_result"
    }
   ],
   "source": [
    "myfile.seek(-10,1)"
   ]
  },
  {
   "cell_type": "code",
   "execution_count": 67,
   "id": "fbc046a7-7b13-4e75-9d1b-3410ca5b5073",
   "metadata": {},
   "outputs": [
    {
     "data": {
      "text/plain": [
       "335"
      ]
     },
     "execution_count": 67,
     "metadata": {},
     "output_type": "execute_result"
    }
   ],
   "source": [
    "myfile.seek(10,2)"
   ]
  },
  {
   "cell_type": "code",
   "execution_count": 69,
   "id": "cc89e6e3-f1e5-419d-8457-f2b946294252",
   "metadata": {},
   "outputs": [
    {
     "data": {
      "text/plain": [
       "325"
      ]
     },
     "execution_count": 69,
     "metadata": {},
     "output_type": "execute_result"
    }
   ],
   "source": [
    "myfile.seek(0,2)"
   ]
  },
  {
   "cell_type": "code",
   "execution_count": 70,
   "id": "a433b619-5e6a-4820-8a27-3d4f9ab02f0f",
   "metadata": {},
   "outputs": [
    {
     "ename": "OSError",
     "evalue": "[Errno 22] Invalid argument",
     "output_type": "error",
     "traceback": [
      "\u001b[1;31m---------------------------------------------------------------------------\u001b[0m",
      "\u001b[1;31mOSError\u001b[0m                                   Traceback (most recent call last)",
      "Cell \u001b[1;32mIn[70], line 1\u001b[0m\n\u001b[1;32m----> 1\u001b[0m \u001b[43mmyfile\u001b[49m\u001b[38;5;241;43m.\u001b[39;49m\u001b[43mseek\u001b[49m\u001b[43m(\u001b[49m\u001b[38;5;241;43m-\u001b[39;49m\u001b[38;5;241;43m10\u001b[39;49m\u001b[43m,\u001b[49m\u001b[38;5;241;43m0\u001b[39;49m\u001b[43m)\u001b[49m\n",
      "\u001b[1;31mOSError\u001b[0m: [Errno 22] Invalid argument"
     ]
    }
   ],
   "source": [
    "myfile.seek(-10,0)"
   ]
  },
  {
   "cell_type": "code",
   "execution_count": 73,
   "id": "694c3b39-73cc-4186-9470-d62a2c09ea2d",
   "metadata": {},
   "outputs": [
    {
     "data": {
      "text/plain": [
       "345"
      ]
     },
     "execution_count": 73,
     "metadata": {},
     "output_type": "execute_result"
    }
   ],
   "source": [
    "myfile.seek(10,1)"
   ]
  },
  {
   "cell_type": "code",
   "execution_count": 74,
   "id": "1b0e9792-2118-486f-be99-aa22affb4c90",
   "metadata": {},
   "outputs": [
    {
     "data": {
      "text/plain": [
       "345"
      ]
     },
     "execution_count": 74,
     "metadata": {},
     "output_type": "execute_result"
    }
   ],
   "source": [
    "myfile.tell()"
   ]
  },
  {
   "cell_type": "code",
   "execution_count": 75,
   "id": "933bdf65-8843-4650-9cb8-388ef1a62b21",
   "metadata": {},
   "outputs": [],
   "source": [
    "myfile.close()"
   ]
  },
  {
   "cell_type": "code",
   "execution_count": 76,
   "id": "5641172d-6f4f-4cae-b6a2-d08e27a10d51",
   "metadata": {},
   "outputs": [],
   "source": [
    "import os"
   ]
  },
  {
   "cell_type": "code",
   "execution_count": 77,
   "id": "2216beb7-7ff7-4efb-a095-956724ec0e74",
   "metadata": {},
   "outputs": [
    {
     "data": {
      "text/plain": [
       "['DirEntry',\n",
       " 'EX_OK',\n",
       " 'F_OK',\n",
       " 'GenericAlias',\n",
       " 'Mapping',\n",
       " 'MutableMapping',\n",
       " 'O_APPEND',\n",
       " 'O_BINARY',\n",
       " 'O_CREAT',\n",
       " 'O_EXCL',\n",
       " 'O_NOINHERIT',\n",
       " 'O_RANDOM',\n",
       " 'O_RDONLY',\n",
       " 'O_RDWR',\n",
       " 'O_SEQUENTIAL',\n",
       " 'O_SHORT_LIVED',\n",
       " 'O_TEMPORARY',\n",
       " 'O_TEXT',\n",
       " 'O_TRUNC',\n",
       " 'O_WRONLY',\n",
       " 'P_DETACH',\n",
       " 'P_NOWAIT',\n",
       " 'P_NOWAITO',\n",
       " 'P_OVERLAY',\n",
       " 'P_WAIT',\n",
       " 'PathLike',\n",
       " 'R_OK',\n",
       " 'SEEK_CUR',\n",
       " 'SEEK_END',\n",
       " 'SEEK_SET',\n",
       " 'TMP_MAX',\n",
       " 'W_OK',\n",
       " 'X_OK',\n",
       " '_AddedDllDirectory',\n",
       " '_Environ',\n",
       " '__all__',\n",
       " '__builtins__',\n",
       " '__doc__',\n",
       " '__file__',\n",
       " '__loader__',\n",
       " '__name__',\n",
       " '__package__',\n",
       " '__spec__',\n",
       " '_check_methods',\n",
       " '_execvpe',\n",
       " '_exists',\n",
       " '_exit',\n",
       " '_fspath',\n",
       " '_get_exports_list',\n",
       " '_walk_symlinks_as_files',\n",
       " '_wrap_close',\n",
       " 'abc',\n",
       " 'abort',\n",
       " 'access',\n",
       " 'add_dll_directory',\n",
       " 'altsep',\n",
       " 'chdir',\n",
       " 'chmod',\n",
       " 'close',\n",
       " 'closerange',\n",
       " 'cpu_count',\n",
       " 'curdir',\n",
       " 'defpath',\n",
       " 'device_encoding',\n",
       " 'devnull',\n",
       " 'dup',\n",
       " 'dup2',\n",
       " 'environ',\n",
       " 'error',\n",
       " 'execl',\n",
       " 'execle',\n",
       " 'execlp',\n",
       " 'execlpe',\n",
       " 'execv',\n",
       " 'execve',\n",
       " 'execvp',\n",
       " 'execvpe',\n",
       " 'extsep',\n",
       " 'fdopen',\n",
       " 'fsdecode',\n",
       " 'fsencode',\n",
       " 'fspath',\n",
       " 'fstat',\n",
       " 'fsync',\n",
       " 'ftruncate',\n",
       " 'get_blocking',\n",
       " 'get_exec_path',\n",
       " 'get_handle_inheritable',\n",
       " 'get_inheritable',\n",
       " 'get_terminal_size',\n",
       " 'getcwd',\n",
       " 'getcwdb',\n",
       " 'getenv',\n",
       " 'getlogin',\n",
       " 'getpid',\n",
       " 'getppid',\n",
       " 'isatty',\n",
       " 'kill',\n",
       " 'linesep',\n",
       " 'link',\n",
       " 'listdir',\n",
       " 'listdrives',\n",
       " 'listmounts',\n",
       " 'listvolumes',\n",
       " 'lseek',\n",
       " 'lstat',\n",
       " 'makedirs',\n",
       " 'mkdir',\n",
       " 'name',\n",
       " 'open',\n",
       " 'pardir',\n",
       " 'path',\n",
       " 'pathsep',\n",
       " 'pipe',\n",
       " 'popen',\n",
       " 'putenv',\n",
       " 'read',\n",
       " 'readlink',\n",
       " 'remove',\n",
       " 'removedirs',\n",
       " 'rename',\n",
       " 'renames',\n",
       " 'replace',\n",
       " 'rmdir',\n",
       " 'scandir',\n",
       " 'sep',\n",
       " 'set_blocking',\n",
       " 'set_handle_inheritable',\n",
       " 'set_inheritable',\n",
       " 'spawnl',\n",
       " 'spawnle',\n",
       " 'spawnv',\n",
       " 'spawnve',\n",
       " 'st',\n",
       " 'startfile',\n",
       " 'stat',\n",
       " 'stat_result',\n",
       " 'statvfs_result',\n",
       " 'strerror',\n",
       " 'supports_bytes_environ',\n",
       " 'supports_dir_fd',\n",
       " 'supports_effective_ids',\n",
       " 'supports_fd',\n",
       " 'supports_follow_symlinks',\n",
       " 'symlink',\n",
       " 'sys',\n",
       " 'system',\n",
       " 'terminal_size',\n",
       " 'times',\n",
       " 'times_result',\n",
       " 'truncate',\n",
       " 'umask',\n",
       " 'uname_result',\n",
       " 'unlink',\n",
       " 'unsetenv',\n",
       " 'urandom',\n",
       " 'utime',\n",
       " 'waitpid',\n",
       " 'waitstatus_to_exitcode',\n",
       " 'walk',\n",
       " 'write']"
      ]
     },
     "execution_count": 77,
     "metadata": {},
     "output_type": "execute_result"
    }
   ],
   "source": [
    "dir(os)"
   ]
  },
  {
   "cell_type": "code",
   "execution_count": 78,
   "id": "318bceeb-62bf-4c6c-a782-8fd998942cb6",
   "metadata": {},
   "outputs": [],
   "source": [
    "myfile=open('Second_Text_File.txt','w')"
   ]
  },
  {
   "cell_type": "code",
   "execution_count": 79,
   "id": "37e59f33-755b-4cd2-9b31-726789559c2a",
   "metadata": {},
   "outputs": [],
   "source": [
    "myfile.writelines(['I am Aashraey Vaid.','I am a Machine Learning student.','AI is the future of this world.','Let\\'s learn AI together.'])"
   ]
  },
  {
   "cell_type": "code",
   "execution_count": 80,
   "id": "77d1161a-d459-4822-98ff-6b21f7f58a88",
   "metadata": {},
   "outputs": [],
   "source": [
    "myfile.close()"
   ]
  },
  {
   "cell_type": "code",
   "execution_count": 81,
   "id": "d25983cd-1385-4957-a091-e2d4d997f1f7",
   "metadata": {},
   "outputs": [],
   "source": [
    "os.rename('Second_Text_File.txt','First_Text_File_Duplicate.txt')"
   ]
  },
  {
   "cell_type": "code",
   "execution_count": 82,
   "id": "1a15abf7-cd6b-4491-b204-484b05689fad",
   "metadata": {},
   "outputs": [],
   "source": [
    "os.remove('First_Text_File_Duplicate.txt')"
   ]
  },
  {
   "cell_type": "code",
   "execution_count": 84,
   "id": "14fab90e-b97a-4ddc-91fd-22348f4e8154",
   "metadata": {},
   "outputs": [],
   "source": [
    "myfile=open('Second_Text_File.txt','w')"
   ]
  },
  {
   "cell_type": "code",
   "execution_count": 85,
   "id": "e3f808d3-9c2d-49ca-a944-83dd889b2064",
   "metadata": {},
   "outputs": [],
   "source": [
    "myfile.writelines(['I am Aashraey Vaid.\\n','I am a Machine Learning student.\\n','AI is the future of this world.\\n','Let\\'s learn AI together.\\n'])"
   ]
  },
  {
   "cell_type": "code",
   "execution_count": 86,
   "id": "1766771f-d4f8-4d6a-b0ea-65c1eb656a98",
   "metadata": {},
   "outputs": [],
   "source": [
    "myfile.close()"
   ]
  },
  {
   "cell_type": "code",
   "execution_count": 87,
   "id": "da2bfac8-17c1-4a03-9fde-07b3aa0f0ac5",
   "metadata": {},
   "outputs": [
    {
     "ename": "FileNotFoundError",
     "evalue": "[WinError 2] The system cannot find the file specified: 'jhsdgf.txt'",
     "output_type": "error",
     "traceback": [
      "\u001b[1;31m---------------------------------------------------------------------------\u001b[0m",
      "\u001b[1;31mFileNotFoundError\u001b[0m                         Traceback (most recent call last)",
      "Cell \u001b[1;32mIn[87], line 1\u001b[0m\n\u001b[1;32m----> 1\u001b[0m \u001b[43mos\u001b[49m\u001b[38;5;241;43m.\u001b[39;49m\u001b[43mremove\u001b[49m\u001b[43m(\u001b[49m\u001b[38;5;124;43m'\u001b[39;49m\u001b[38;5;124;43mjhsdgf.txt\u001b[39;49m\u001b[38;5;124;43m'\u001b[39;49m\u001b[43m)\u001b[49m\n",
      "\u001b[1;31mFileNotFoundError\u001b[0m: [WinError 2] The system cannot find the file specified: 'jhsdgf.txt'"
     ]
    }
   ],
   "source": [
    "os.remove('jhsdgf.txt')"
   ]
  },
  {
   "cell_type": "code",
   "execution_count": 88,
   "id": "5d0af920-0c80-4563-955c-fc160f0ceffd",
   "metadata": {},
   "outputs": [
    {
     "ename": "FileNotFoundError",
     "evalue": "[WinError 2] The system cannot find the file specified: 'hsfgb.txt' -> 'alwue.txt'",
     "output_type": "error",
     "traceback": [
      "\u001b[1;31m---------------------------------------------------------------------------\u001b[0m",
      "\u001b[1;31mFileNotFoundError\u001b[0m                         Traceback (most recent call last)",
      "Cell \u001b[1;32mIn[88], line 1\u001b[0m\n\u001b[1;32m----> 1\u001b[0m \u001b[43mos\u001b[49m\u001b[38;5;241;43m.\u001b[39;49m\u001b[43mrename\u001b[49m\u001b[43m(\u001b[49m\u001b[38;5;124;43m'\u001b[39;49m\u001b[38;5;124;43mhsfgb.txt\u001b[39;49m\u001b[38;5;124;43m'\u001b[39;49m\u001b[43m,\u001b[49m\u001b[38;5;124;43m'\u001b[39;49m\u001b[38;5;124;43malwue.txt\u001b[39;49m\u001b[38;5;124;43m'\u001b[39;49m\u001b[43m)\u001b[49m\n",
      "\u001b[1;31mFileNotFoundError\u001b[0m: [WinError 2] The system cannot find the file specified: 'hsfgb.txt' -> 'alwue.txt'"
     ]
    }
   ],
   "source": [
    "os.rename('hsfgb.txt','alwue.txt')"
   ]
  },
  {
   "cell_type": "code",
   "execution_count": 89,
   "id": "39535991-7b54-40f0-bc6f-0a355e72828d",
   "metadata": {},
   "outputs": [
    {
     "ename": "FileExistsError",
     "evalue": "[WinError 183] Cannot create a file when that file already exists: 'Second_Text_File.txt' -> 'First_Text_File.txt'",
     "output_type": "error",
     "traceback": [
      "\u001b[1;31m---------------------------------------------------------------------------\u001b[0m",
      "\u001b[1;31mFileExistsError\u001b[0m                           Traceback (most recent call last)",
      "Cell \u001b[1;32mIn[89], line 1\u001b[0m\n\u001b[1;32m----> 1\u001b[0m \u001b[43mos\u001b[49m\u001b[38;5;241;43m.\u001b[39;49m\u001b[43mrename\u001b[49m\u001b[43m(\u001b[49m\u001b[38;5;124;43m'\u001b[39;49m\u001b[38;5;124;43mSecond_Text_File.txt\u001b[39;49m\u001b[38;5;124;43m'\u001b[39;49m\u001b[43m,\u001b[49m\u001b[38;5;124;43m'\u001b[39;49m\u001b[38;5;124;43mFirst_Text_File.txt\u001b[39;49m\u001b[38;5;124;43m'\u001b[39;49m\u001b[43m)\u001b[49m\n",
      "\u001b[1;31mFileExistsError\u001b[0m: [WinError 183] Cannot create a file when that file already exists: 'Second_Text_File.txt' -> 'First_Text_File.txt'"
     ]
    }
   ],
   "source": [
    "os.rename('Second_Text_File.txt','First_Text_File.txt')"
   ]
  },
  {
   "cell_type": "code",
   "execution_count": 90,
   "id": "62d2ed42-b760-4d99-b551-a0a48ba6c77d",
   "metadata": {},
   "outputs": [
    {
     "data": {
      "text/plain": [
       "'C:\\\\Users\\\\Aashraey Vaid\\\\Machine_Learning'"
      ]
     },
     "execution_count": 90,
     "metadata": {},
     "output_type": "execute_result"
    }
   ],
   "source": [
    "os.getcwd()"
   ]
  },
  {
   "cell_type": "code",
   "execution_count": 91,
   "id": "5ea70af9-9b02-4c3c-814f-6d2f06bc687f",
   "metadata": {},
   "outputs": [],
   "source": [
    "os.chdir('C:\\\\Users\\\\Aashraey Vaid')"
   ]
  },
  {
   "cell_type": "code",
   "execution_count": 92,
   "id": "1c23d46c-9467-4816-9e01-57ccd83441f5",
   "metadata": {},
   "outputs": [
    {
     "data": {
      "text/plain": [
       "['.arduinoIDE',\n",
       " '.cache',\n",
       " '.dotnet',\n",
       " '.idlerc',\n",
       " '.ipynb_checkpoints',\n",
       " '.ipython',\n",
       " '.jupyter',\n",
       " '.keras',\n",
       " '.matplotlib',\n",
       " '.templateengine',\n",
       " '.vscode',\n",
       " '3D Objects',\n",
       " 'anaconda3',\n",
       " 'AppData',\n",
       " 'Application Data',\n",
       " 'Contacts',\n",
       " 'Cookies',\n",
       " 'Desktop',\n",
       " 'DesktopAssignments',\n",
       " 'Documents',\n",
       " 'Downloads',\n",
       " 'Favorites',\n",
       " 'Links',\n",
       " 'Local Settings',\n",
       " 'Machine_Learning',\n",
       " 'Music',\n",
       " 'My Documents',\n",
       " 'mysite',\n",
       " 'NetHood',\n",
       " 'NTUSER.DAT',\n",
       " 'ntuser.dat.LOG1',\n",
       " 'ntuser.dat.LOG2',\n",
       " 'NTUSER.DAT{53b39e88-18c4-11ea-a811-000d3aa4692b}.TM.blf',\n",
       " 'NTUSER.DAT{53b39e88-18c4-11ea-a811-000d3aa4692b}.TMContainer00000000000000000001.regtrans-ms',\n",
       " 'NTUSER.DAT{53b39e88-18c4-11ea-a811-000d3aa4692b}.TMContainer00000000000000000002.regtrans-ms',\n",
       " 'ntuser.ini',\n",
       " 'OneDrive',\n",
       " 'Pictures',\n",
       " 'PrintHood',\n",
       " 'Recent',\n",
       " 'runs',\n",
       " 'Saved Games',\n",
       " 'Searches',\n",
       " 'SendTo',\n",
       " 'source',\n",
       " 'SPECTRUM_CLUB_MEMBER_DATA.xlsx',\n",
       " 'Start Menu',\n",
       " 'Templates',\n",
       " 'Videos']"
      ]
     },
     "execution_count": 92,
     "metadata": {},
     "output_type": "execute_result"
    }
   ],
   "source": [
    "os.listdir()"
   ]
  },
  {
   "cell_type": "code",
   "execution_count": 93,
   "id": "f99b4895-dbd3-4ca5-b806-e0a0a00a6602",
   "metadata": {},
   "outputs": [
    {
     "data": {
      "text/plain": [
       "['.arduinoIDE',\n",
       " '.cache',\n",
       " '.dotnet',\n",
       " '.idlerc',\n",
       " '.ipynb_checkpoints',\n",
       " '.ipython',\n",
       " '.jupyter',\n",
       " '.keras',\n",
       " '.matplotlib',\n",
       " '.templateengine',\n",
       " '.vscode',\n",
       " '3D Objects',\n",
       " 'anaconda3',\n",
       " 'AppData',\n",
       " 'Application Data',\n",
       " 'Contacts',\n",
       " 'Cookies',\n",
       " 'Desktop',\n",
       " 'DesktopAssignments',\n",
       " 'Documents',\n",
       " 'Downloads',\n",
       " 'Favorites',\n",
       " 'Links',\n",
       " 'Local Settings',\n",
       " 'Machine_Learning',\n",
       " 'Music',\n",
       " 'My Documents',\n",
       " 'mysite',\n",
       " 'NetHood',\n",
       " 'NTUSER.DAT',\n",
       " 'ntuser.dat.LOG1',\n",
       " 'ntuser.dat.LOG2',\n",
       " 'NTUSER.DAT{53b39e88-18c4-11ea-a811-000d3aa4692b}.TM.blf',\n",
       " 'NTUSER.DAT{53b39e88-18c4-11ea-a811-000d3aa4692b}.TMContainer00000000000000000001.regtrans-ms',\n",
       " 'NTUSER.DAT{53b39e88-18c4-11ea-a811-000d3aa4692b}.TMContainer00000000000000000002.regtrans-ms',\n",
       " 'ntuser.ini',\n",
       " 'OneDrive',\n",
       " 'Pictures',\n",
       " 'PrintHood',\n",
       " 'Recent',\n",
       " 'runs',\n",
       " 'Saved Games',\n",
       " 'Searches',\n",
       " 'SendTo',\n",
       " 'source',\n",
       " 'SPECTRUM_CLUB_MEMBER_DATA.xlsx',\n",
       " 'Start Menu',\n",
       " 'Templates',\n",
       " 'Videos']"
      ]
     },
     "execution_count": 93,
     "metadata": {},
     "output_type": "execute_result"
    }
   ],
   "source": [
    "os.listdir(os.getcwd())"
   ]
  },
  {
   "cell_type": "code",
   "execution_count": 94,
   "id": "b0e8c744-39e4-41e6-b880-e11b9081c9b1",
   "metadata": {},
   "outputs": [],
   "source": [
    "os.mkdir('New_Folder')"
   ]
  },
  {
   "cell_type": "code",
   "execution_count": 95,
   "id": "99494c35-a849-4369-a6df-99c478c62834",
   "metadata": {},
   "outputs": [
    {
     "data": {
      "text/plain": [
       "['.arduinoIDE',\n",
       " '.cache',\n",
       " '.dotnet',\n",
       " '.idlerc',\n",
       " '.ipynb_checkpoints',\n",
       " '.ipython',\n",
       " '.jupyter',\n",
       " '.keras',\n",
       " '.matplotlib',\n",
       " '.templateengine',\n",
       " '.vscode',\n",
       " '3D Objects',\n",
       " 'anaconda3',\n",
       " 'AppData',\n",
       " 'Application Data',\n",
       " 'Contacts',\n",
       " 'Cookies',\n",
       " 'Desktop',\n",
       " 'DesktopAssignments',\n",
       " 'Documents',\n",
       " 'Downloads',\n",
       " 'Favorites',\n",
       " 'Links',\n",
       " 'Local Settings',\n",
       " 'Machine_Learning',\n",
       " 'Music',\n",
       " 'My Documents',\n",
       " 'mysite',\n",
       " 'NetHood',\n",
       " 'New_Folder',\n",
       " 'NTUSER.DAT',\n",
       " 'ntuser.dat.LOG1',\n",
       " 'ntuser.dat.LOG2',\n",
       " 'NTUSER.DAT{53b39e88-18c4-11ea-a811-000d3aa4692b}.TM.blf',\n",
       " 'NTUSER.DAT{53b39e88-18c4-11ea-a811-000d3aa4692b}.TMContainer00000000000000000001.regtrans-ms',\n",
       " 'NTUSER.DAT{53b39e88-18c4-11ea-a811-000d3aa4692b}.TMContainer00000000000000000002.regtrans-ms',\n",
       " 'ntuser.ini',\n",
       " 'OneDrive',\n",
       " 'Pictures',\n",
       " 'PrintHood',\n",
       " 'Recent',\n",
       " 'runs',\n",
       " 'Saved Games',\n",
       " 'Searches',\n",
       " 'SendTo',\n",
       " 'source',\n",
       " 'SPECTRUM_CLUB_MEMBER_DATA.xlsx',\n",
       " 'Start Menu',\n",
       " 'Templates',\n",
       " 'Videos']"
      ]
     },
     "execution_count": 95,
     "metadata": {},
     "output_type": "execute_result"
    }
   ],
   "source": [
    "os.listdir()"
   ]
  },
  {
   "cell_type": "code",
   "execution_count": 96,
   "id": "f950d1b7-3eca-4011-b7da-89cf860a70e8",
   "metadata": {},
   "outputs": [],
   "source": [
    "os.rmdir('New_Folder')"
   ]
  },
  {
   "cell_type": "code",
   "execution_count": 97,
   "id": "c63b64b0-4a48-463f-9812-bc5587a60cc3",
   "metadata": {},
   "outputs": [
    {
     "data": {
      "text/plain": [
       "['.arduinoIDE',\n",
       " '.cache',\n",
       " '.dotnet',\n",
       " '.idlerc',\n",
       " '.ipynb_checkpoints',\n",
       " '.ipython',\n",
       " '.jupyter',\n",
       " '.keras',\n",
       " '.matplotlib',\n",
       " '.templateengine',\n",
       " '.vscode',\n",
       " '3D Objects',\n",
       " 'anaconda3',\n",
       " 'AppData',\n",
       " 'Application Data',\n",
       " 'Contacts',\n",
       " 'Cookies',\n",
       " 'Desktop',\n",
       " 'DesktopAssignments',\n",
       " 'Documents',\n",
       " 'Downloads',\n",
       " 'Favorites',\n",
       " 'Links',\n",
       " 'Local Settings',\n",
       " 'Machine_Learning',\n",
       " 'Music',\n",
       " 'My Documents',\n",
       " 'mysite',\n",
       " 'NetHood',\n",
       " 'NTUSER.DAT',\n",
       " 'ntuser.dat.LOG1',\n",
       " 'ntuser.dat.LOG2',\n",
       " 'NTUSER.DAT{53b39e88-18c4-11ea-a811-000d3aa4692b}.TM.blf',\n",
       " 'NTUSER.DAT{53b39e88-18c4-11ea-a811-000d3aa4692b}.TMContainer00000000000000000001.regtrans-ms',\n",
       " 'NTUSER.DAT{53b39e88-18c4-11ea-a811-000d3aa4692b}.TMContainer00000000000000000002.regtrans-ms',\n",
       " 'ntuser.ini',\n",
       " 'OneDrive',\n",
       " 'Pictures',\n",
       " 'PrintHood',\n",
       " 'Recent',\n",
       " 'runs',\n",
       " 'Saved Games',\n",
       " 'Searches',\n",
       " 'SendTo',\n",
       " 'source',\n",
       " 'SPECTRUM_CLUB_MEMBER_DATA.xlsx',\n",
       " 'Start Menu',\n",
       " 'Templates',\n",
       " 'Videos']"
      ]
     },
     "execution_count": 97,
     "metadata": {},
     "output_type": "execute_result"
    }
   ],
   "source": [
    "os.listdir()"
   ]
  },
  {
   "cell_type": "code",
   "execution_count": 98,
   "id": "fe33148c-b272-487d-9cac-86413931ffec",
   "metadata": {},
   "outputs": [],
   "source": [
    "import shutil"
   ]
  },
  {
   "cell_type": "code",
   "execution_count": 99,
   "id": "866027b1-52b6-4e8b-ba84-8268000a91ef",
   "metadata": {},
   "outputs": [],
   "source": [
    "os.mkdir('New_Folder')"
   ]
  },
  {
   "cell_type": "code",
   "execution_count": 105,
   "id": "cb477f1a-a0db-4107-b08f-2374a2a2636d",
   "metadata": {},
   "outputs": [],
   "source": [
    "os.chdir('./New_Folder')"
   ]
  },
  {
   "cell_type": "code",
   "execution_count": 106,
   "id": "3560817f-39e8-4c2a-b10e-8694878b2a51",
   "metadata": {},
   "outputs": [],
   "source": [
    "myfile=open('Text_File2.txt','w')"
   ]
  },
  {
   "cell_type": "code",
   "execution_count": 107,
   "id": "32deda28-1d4d-47c0-a608-91ebc28e6be5",
   "metadata": {},
   "outputs": [],
   "source": [
    "myfile.writelines(['I am Aashraey Vaid.\\n','I am a Machine Learning student.\\n','AI is the future of this world.\\n','Let\\'s learn AI together.\\n'])"
   ]
  },
  {
   "cell_type": "code",
   "execution_count": 108,
   "id": "bb6e6f7b-2103-4f99-9fe7-3d0b05948bc5",
   "metadata": {},
   "outputs": [],
   "source": [
    "myfile.close()"
   ]
  },
  {
   "cell_type": "code",
   "execution_count": 109,
   "id": "e6397d94-08bb-456c-9e8a-43411808a970",
   "metadata": {},
   "outputs": [],
   "source": [
    "os.chdir('../')"
   ]
  },
  {
   "cell_type": "code",
   "execution_count": 110,
   "id": "13203b24-9856-448f-8338-f26c88432e46",
   "metadata": {},
   "outputs": [],
   "source": [
    "os.mkdir('Folder')"
   ]
  },
  {
   "cell_type": "code",
   "execution_count": 111,
   "id": "7f9b7014-f2bf-45aa-ae74-74c980c6e08a",
   "metadata": {},
   "outputs": [
    {
     "ename": "OSError",
     "evalue": "[WinError 145] The directory is not empty: 'New_Folder'",
     "output_type": "error",
     "traceback": [
      "\u001b[1;31m---------------------------------------------------------------------------\u001b[0m",
      "\u001b[1;31mOSError\u001b[0m                                   Traceback (most recent call last)",
      "Cell \u001b[1;32mIn[111], line 1\u001b[0m\n\u001b[1;32m----> 1\u001b[0m \u001b[43mos\u001b[49m\u001b[38;5;241;43m.\u001b[39;49m\u001b[43mrmdir\u001b[49m\u001b[43m(\u001b[49m\u001b[38;5;124;43m'\u001b[39;49m\u001b[38;5;124;43mNew_Folder\u001b[39;49m\u001b[38;5;124;43m'\u001b[39;49m\u001b[43m)\u001b[49m\n",
      "\u001b[1;31mOSError\u001b[0m: [WinError 145] The directory is not empty: 'New_Folder'"
     ]
    }
   ],
   "source": [
    "os.rmdir('New_Folder')"
   ]
  },
  {
   "cell_type": "code",
   "execution_count": 113,
   "id": "520841ed-40cb-4eb3-abd1-d0e0c316d0c5",
   "metadata": {},
   "outputs": [],
   "source": [
    "shutil.rmtree('New_Folder')"
   ]
  },
  {
   "cell_type": "code",
   "execution_count": 114,
   "id": "3d765705-3547-4bcd-81b7-39990ac99915",
   "metadata": {},
   "outputs": [
    {
     "ename": "FileNotFoundError",
     "evalue": "[WinError 3] The system cannot find the path specified: 'Fodler'",
     "output_type": "error",
     "traceback": [
      "\u001b[1;31m---------------------------------------------------------------------------\u001b[0m",
      "\u001b[1;31mFileNotFoundError\u001b[0m                         Traceback (most recent call last)",
      "Cell \u001b[1;32mIn[114], line 1\u001b[0m\n\u001b[1;32m----> 1\u001b[0m \u001b[43mshutil\u001b[49m\u001b[38;5;241;43m.\u001b[39;49m\u001b[43mrmtree\u001b[49m\u001b[43m(\u001b[49m\u001b[38;5;124;43m'\u001b[39;49m\u001b[38;5;124;43mFodler\u001b[39;49m\u001b[38;5;124;43m'\u001b[39;49m\u001b[43m)\u001b[49m\n",
      "File \u001b[1;32m~\\AppData\\Local\\Programs\\Python\\Python312\\Lib\\shutil.py:781\u001b[0m, in \u001b[0;36mrmtree\u001b[1;34m(path, ignore_errors, onerror, onexc, dir_fd)\u001b[0m\n\u001b[0;32m    779\u001b[0m     \u001b[38;5;66;03m# can't continue even if onexc hook returns\u001b[39;00m\n\u001b[0;32m    780\u001b[0m     \u001b[38;5;28;01mreturn\u001b[39;00m\n\u001b[1;32m--> 781\u001b[0m \u001b[38;5;28;01mreturn\u001b[39;00m \u001b[43m_rmtree_unsafe\u001b[49m\u001b[43m(\u001b[49m\u001b[43mpath\u001b[49m\u001b[43m,\u001b[49m\u001b[43m \u001b[49m\u001b[43monexc\u001b[49m\u001b[43m)\u001b[49m\n",
      "File \u001b[1;32m~\\AppData\\Local\\Programs\\Python\\Python312\\Lib\\shutil.py:623\u001b[0m, in \u001b[0;36m_rmtree_unsafe\u001b[1;34m(path, onexc)\u001b[0m\n\u001b[0;32m    621\u001b[0m     onexc(os\u001b[38;5;241m.\u001b[39mscandir, err\u001b[38;5;241m.\u001b[39mfilename, err)\n\u001b[0;32m    622\u001b[0m results \u001b[38;5;241m=\u001b[39m os\u001b[38;5;241m.\u001b[39mwalk(path, topdown\u001b[38;5;241m=\u001b[39m\u001b[38;5;28;01mFalse\u001b[39;00m, onerror\u001b[38;5;241m=\u001b[39monerror, followlinks\u001b[38;5;241m=\u001b[39mos\u001b[38;5;241m.\u001b[39m_walk_symlinks_as_files)\n\u001b[1;32m--> 623\u001b[0m \u001b[43m\u001b[49m\u001b[38;5;28;43;01mfor\u001b[39;49;00m\u001b[43m \u001b[49m\u001b[43mdirpath\u001b[49m\u001b[43m,\u001b[49m\u001b[43m \u001b[49m\u001b[43mdirnames\u001b[49m\u001b[43m,\u001b[49m\u001b[43m \u001b[49m\u001b[43mfilenames\u001b[49m\u001b[43m \u001b[49m\u001b[38;5;129;43;01min\u001b[39;49;00m\u001b[43m \u001b[49m\u001b[43mresults\u001b[49m\u001b[43m:\u001b[49m\n\u001b[0;32m    624\u001b[0m \u001b[43m    \u001b[49m\u001b[38;5;28;43;01mfor\u001b[39;49;00m\u001b[43m \u001b[49m\u001b[43mname\u001b[49m\u001b[43m \u001b[49m\u001b[38;5;129;43;01min\u001b[39;49;00m\u001b[43m \u001b[49m\u001b[43mdirnames\u001b[49m\u001b[43m:\u001b[49m\n\u001b[0;32m    625\u001b[0m \u001b[43m        \u001b[49m\u001b[43mfullname\u001b[49m\u001b[43m \u001b[49m\u001b[38;5;241;43m=\u001b[39;49m\u001b[43m \u001b[49m\u001b[43mos\u001b[49m\u001b[38;5;241;43m.\u001b[39;49m\u001b[43mpath\u001b[49m\u001b[38;5;241;43m.\u001b[39;49m\u001b[43mjoin\u001b[49m\u001b[43m(\u001b[49m\u001b[43mdirpath\u001b[49m\u001b[43m,\u001b[49m\u001b[43m \u001b[49m\u001b[43mname\u001b[49m\u001b[43m)\u001b[49m\n",
      "File \u001b[1;32m<frozen os>:369\u001b[0m, in \u001b[0;36mwalk\u001b[1;34m(top, topdown, onerror, followlinks)\u001b[0m\n",
      "File \u001b[1;32m~\\AppData\\Local\\Programs\\Python\\Python312\\Lib\\shutil.py:621\u001b[0m, in \u001b[0;36m_rmtree_unsafe.<locals>.onerror\u001b[1;34m(err)\u001b[0m\n\u001b[0;32m    620\u001b[0m \u001b[38;5;28;01mdef\u001b[39;00m \u001b[38;5;21monerror\u001b[39m(err):\n\u001b[1;32m--> 621\u001b[0m     \u001b[43monexc\u001b[49m\u001b[43m(\u001b[49m\u001b[43mos\u001b[49m\u001b[38;5;241;43m.\u001b[39;49m\u001b[43mscandir\u001b[49m\u001b[43m,\u001b[49m\u001b[43m \u001b[49m\u001b[43merr\u001b[49m\u001b[38;5;241;43m.\u001b[39;49m\u001b[43mfilename\u001b[49m\u001b[43m,\u001b[49m\u001b[43m \u001b[49m\u001b[43merr\u001b[49m\u001b[43m)\u001b[49m\n",
      "File \u001b[1;32m<frozen os>:366\u001b[0m, in \u001b[0;36mwalk\u001b[1;34m(top, topdown, onerror, followlinks)\u001b[0m\n",
      "\u001b[1;31mFileNotFoundError\u001b[0m: [WinError 3] The system cannot find the path specified: 'Fodler'"
     ]
    }
   ],
   "source": [
    "shutil.rmtree('Fodler')"
   ]
  },
  {
   "cell_type": "code",
   "execution_count": 115,
   "id": "e671a32f-c979-4e2a-bcce-7ff12de8f3a6",
   "metadata": {},
   "outputs": [
    {
     "ename": "FileNotFoundError",
     "evalue": "[WinError 2] The system cannot find the file specified: 'Fodler'",
     "output_type": "error",
     "traceback": [
      "\u001b[1;31m---------------------------------------------------------------------------\u001b[0m",
      "\u001b[1;31mFileNotFoundError\u001b[0m                         Traceback (most recent call last)",
      "Cell \u001b[1;32mIn[115], line 1\u001b[0m\n\u001b[1;32m----> 1\u001b[0m \u001b[43mos\u001b[49m\u001b[38;5;241;43m.\u001b[39;49m\u001b[43mrmdir\u001b[49m\u001b[43m(\u001b[49m\u001b[38;5;124;43m'\u001b[39;49m\u001b[38;5;124;43mFodler\u001b[39;49m\u001b[38;5;124;43m'\u001b[39;49m\u001b[43m)\u001b[49m\n",
      "\u001b[1;31mFileNotFoundError\u001b[0m: [WinError 2] The system cannot find the file specified: 'Fodler'"
     ]
    }
   ],
   "source": [
    "os.rmdir('Fodler')"
   ]
  },
  {
   "cell_type": "code",
   "execution_count": 116,
   "id": "75706933-dd03-45fb-9f25-85a61dea5d63",
   "metadata": {},
   "outputs": [],
   "source": [
    "shutil.rmtree('Folder')"
   ]
  },
  {
   "cell_type": "code",
   "execution_count": 117,
   "id": "fa22b4dc-2db7-4e5e-8c1f-96ccb4766aae",
   "metadata": {},
   "outputs": [],
   "source": [
    "os.chdir('./Machine_Learning')"
   ]
  },
  {
   "cell_type": "code",
   "execution_count": 118,
   "id": "92d6e0df-4f72-4649-bef1-a517d929bbe1",
   "metadata": {},
   "outputs": [],
   "source": [
    "myfile=open('Third_Text_File.txt','w')"
   ]
  },
  {
   "cell_type": "code",
   "execution_count": 119,
   "id": "8106ef4b-9bfa-4e3a-b5d1-754d7f80a911",
   "metadata": {},
   "outputs": [],
   "source": [
    "myfile.writelines('abcdefgrht')"
   ]
  },
  {
   "cell_type": "code",
   "execution_count": 120,
   "id": "b621bc05-ab12-4e76-9a4d-398e6eeea4e3",
   "metadata": {},
   "outputs": [],
   "source": [
    "myfile.flush()"
   ]
  },
  {
   "cell_type": "code",
   "execution_count": 121,
   "id": "ca3326a3-2528-4888-ada3-8113ce41e37e",
   "metadata": {},
   "outputs": [],
   "source": [
    "myfile.close()\n"
   ]
  },
  {
   "cell_type": "code",
   "execution_count": 122,
   "id": "7afb2268-0168-4cb6-93f4-2cb3d5ca9ea8",
   "metadata": {},
   "outputs": [],
   "source": [
    "myfile=open('Third_Text_File.txt','r+')"
   ]
  },
  {
   "cell_type": "code",
   "execution_count": 123,
   "id": "0440fb88-e77f-4f6d-85c9-5e44009ac4fb",
   "metadata": {},
   "outputs": [
    {
     "data": {
      "text/plain": [
       "'abcdefgrht'"
      ]
     },
     "execution_count": 123,
     "metadata": {},
     "output_type": "execute_result"
    }
   ],
   "source": [
    "myfile.readline()"
   ]
  },
  {
   "cell_type": "code",
   "execution_count": 125,
   "id": "1eddcb88-44d6-430b-a94b-ebca38b80f54",
   "metadata": {},
   "outputs": [
    {
     "data": {
      "text/plain": [
       "0"
      ]
     },
     "execution_count": 125,
     "metadata": {},
     "output_type": "execute_result"
    }
   ],
   "source": [
    "myfile.seek(0)"
   ]
  },
  {
   "cell_type": "code",
   "execution_count": 126,
   "id": "16409ad1-1fb1-482c-82c7-192a0e1cc3f9",
   "metadata": {},
   "outputs": [],
   "source": [
    "myfile.writelines(('Hello\\n','This is the third text file.\\n','It is created using python.\\n'))"
   ]
  },
  {
   "cell_type": "code",
   "execution_count": 127,
   "id": "e100eaba-c03a-482b-a9a6-77466ad1f60c",
   "metadata": {},
   "outputs": [],
   "source": [
    "myfile.flush()"
   ]
  },
  {
   "cell_type": "code",
   "execution_count": 128,
   "id": "7f9db327-204d-48d9-ab05-b147b7c59791",
   "metadata": {},
   "outputs": [
    {
     "data": {
      "text/plain": [
       "0"
      ]
     },
     "execution_count": 128,
     "metadata": {},
     "output_type": "execute_result"
    }
   ],
   "source": [
    "myfile.seek(0)"
   ]
  },
  {
   "cell_type": "code",
   "execution_count": 129,
   "id": "afbbd80a-df88-4151-9d9b-51408e68c405",
   "metadata": {},
   "outputs": [
    {
     "data": {
      "text/plain": [
       "8"
      ]
     },
     "execution_count": 129,
     "metadata": {},
     "output_type": "execute_result"
    }
   ],
   "source": [
    "myfile.write('abcdefgh')"
   ]
  },
  {
   "cell_type": "code",
   "execution_count": 130,
   "id": "6905c7ca-b658-4ea0-8659-2c5361127466",
   "metadata": {},
   "outputs": [
    {
     "data": {
      "text/plain": [
       "8"
      ]
     },
     "execution_count": 130,
     "metadata": {},
     "output_type": "execute_result"
    }
   ],
   "source": [
    "myfile.tell()"
   ]
  },
  {
   "cell_type": "code",
   "execution_count": 131,
   "id": "83c23a76-7271-49c9-b533-46bca05c8448",
   "metadata": {},
   "outputs": [
    {
     "data": {
      "text/plain": [
       "0"
      ]
     },
     "execution_count": 131,
     "metadata": {},
     "output_type": "execute_result"
    }
   ],
   "source": [
    "myfile.seek(0)"
   ]
  },
  {
   "cell_type": "code",
   "execution_count": 132,
   "id": "9366da79-0ece-4a18-ab47-599803166835",
   "metadata": {},
   "outputs": [
    {
     "data": {
      "text/plain": [
       "'abcdefghhis is the third text file.\\nIt is created using python.\\n'"
      ]
     },
     "execution_count": 132,
     "metadata": {},
     "output_type": "execute_result"
    }
   ],
   "source": [
    "myfile.read()"
   ]
  },
  {
   "cell_type": "code",
   "execution_count": 133,
   "id": "99285f78-d428-4f3f-8981-fc20bd033ac7",
   "metadata": {},
   "outputs": [
    {
     "data": {
      "text/plain": [
       "0"
      ]
     },
     "execution_count": 133,
     "metadata": {},
     "output_type": "execute_result"
    }
   ],
   "source": [
    "myfile.seek(0)"
   ]
  },
  {
   "cell_type": "code",
   "execution_count": 134,
   "id": "99efedda-7205-4d1f-8949-e195ec00d52b",
   "metadata": {},
   "outputs": [
    {
     "data": {
      "text/plain": [
       "7"
      ]
     },
     "execution_count": 134,
     "metadata": {},
     "output_type": "execute_result"
    }
   ],
   "source": [
    "myfile.write('Hello\\nT')"
   ]
  },
  {
   "cell_type": "code",
   "execution_count": 135,
   "id": "ad76573d-433d-4e35-a339-111f3a8b9ac2",
   "metadata": {},
   "outputs": [
    {
     "data": {
      "text/plain": [
       "0"
      ]
     },
     "execution_count": 135,
     "metadata": {},
     "output_type": "execute_result"
    }
   ],
   "source": [
    "myfile.seek(0)"
   ]
  },
  {
   "cell_type": "code",
   "execution_count": 136,
   "id": "babf441c-b806-42bc-be47-1875a65e2cf7",
   "metadata": {},
   "outputs": [
    {
     "data": {
      "text/plain": [
       "'Hello\\nThis is the third text file.\\nIt is created using python.\\n'"
      ]
     },
     "execution_count": 136,
     "metadata": {},
     "output_type": "execute_result"
    }
   ],
   "source": [
    "myfile.read()"
   ]
  },
  {
   "cell_type": "code",
   "execution_count": 137,
   "id": "a92caa06-504c-434b-b439-4ebde15225b2",
   "metadata": {},
   "outputs": [],
   "source": [
    "myfile.flush()"
   ]
  },
  {
   "cell_type": "code",
   "execution_count": 138,
   "id": "0e519f4a-d1f9-42c3-a4cb-ceea66dc1a53",
   "metadata": {},
   "outputs": [],
   "source": [
    "myfile.close()"
   ]
  },
  {
   "cell_type": "code",
   "execution_count": null,
   "id": "4c0cbaaf-0251-494b-ba71-c85605c0c6fe",
   "metadata": {},
   "outputs": [],
   "source": []
  }
 ],
 "metadata": {
  "kernelspec": {
   "display_name": "Python 3 (ipykernel)",
   "language": "python",
   "name": "python3"
  },
  "language_info": {
   "codemirror_mode": {
    "name": "ipython",
    "version": 3
   },
   "file_extension": ".py",
   "mimetype": "text/x-python",
   "name": "python",
   "nbconvert_exporter": "python",
   "pygments_lexer": "ipython3",
   "version": "3.12.5"
  }
 },
 "nbformat": 4,
 "nbformat_minor": 5
}
