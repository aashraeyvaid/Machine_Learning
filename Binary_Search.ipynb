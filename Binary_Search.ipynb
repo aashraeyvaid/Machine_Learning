{
 "cells": [
  {
   "cell_type": "code",
   "execution_count": 1,
   "id": "09e731a0-e4ce-46b9-9004-a1396786d2ac",
   "metadata": {},
   "outputs": [],
   "source": [
    "import numpy as np\n",
    "import pandas as pd"
   ]
  },
  {
   "cell_type": "code",
   "execution_count": 2,
   "id": "bb2c717b-f195-4d48-8161-e1995869200c",
   "metadata": {},
   "outputs": [],
   "source": [
    "l=np.arange(100)"
   ]
  },
  {
   "cell_type": "code",
   "execution_count": 3,
   "id": "fddd60bb-aefc-4528-a834-b86cc722e192",
   "metadata": {},
   "outputs": [],
   "source": [
    "np.random.shuffle(l)"
   ]
  },
  {
   "cell_type": "code",
   "execution_count": 4,
   "id": "15d60b37-f023-44b5-b79c-11740274e07b",
   "metadata": {},
   "outputs": [
    {
     "data": {
      "text/plain": [
       "array([91, 25, 87, 48, 45, 89,  7,  4, 19, 27, 63, 36, 82, 78, 98, 81, 10,\n",
       "       72, 39, 67, 66, 21, 18, 79, 77,  6,  2, 16, 99, 22, 52, 62, 38, 65,\n",
       "       88, 70, 41, 11, 58, 43, 97, 61, 20, 68, 40,  5, 84, 76, 24,  8, 42,\n",
       "       32, 13, 26, 15, 17, 90, 46, 28, 31,  0, 49, 64, 75, 33,  9, 74, 29,\n",
       "       95, 44, 96,  1, 94, 54, 59, 71, 80, 30, 86, 83, 57, 50, 35, 37, 47,\n",
       "       55, 93, 14, 92, 34,  3, 73, 85, 60, 53, 23, 12, 56, 51, 69])"
      ]
     },
     "execution_count": 4,
     "metadata": {},
     "output_type": "execute_result"
    }
   ],
   "source": [
    "l"
   ]
  },
  {
   "cell_type": "code",
   "execution_count": 5,
   "id": "c31f4777-d89d-415b-8606-b700d63130cf",
   "metadata": {},
   "outputs": [],
   "source": [
    "l.sort()"
   ]
  },
  {
   "cell_type": "code",
   "execution_count": 6,
   "id": "bad33d3b-483a-4709-8982-4a7511a743b8",
   "metadata": {},
   "outputs": [
    {
     "data": {
      "text/plain": [
       "array([ 0,  1,  2,  3,  4,  5,  6,  7,  8,  9, 10, 11, 12, 13, 14, 15, 16,\n",
       "       17, 18, 19, 20, 21, 22, 23, 24, 25, 26, 27, 28, 29, 30, 31, 32, 33,\n",
       "       34, 35, 36, 37, 38, 39, 40, 41, 42, 43, 44, 45, 46, 47, 48, 49, 50,\n",
       "       51, 52, 53, 54, 55, 56, 57, 58, 59, 60, 61, 62, 63, 64, 65, 66, 67,\n",
       "       68, 69, 70, 71, 72, 73, 74, 75, 76, 77, 78, 79, 80, 81, 82, 83, 84,\n",
       "       85, 86, 87, 88, 89, 90, 91, 92, 93, 94, 95, 96, 97, 98, 99])"
      ]
     },
     "execution_count": 6,
     "metadata": {},
     "output_type": "execute_result"
    }
   ],
   "source": [
    "l"
   ]
  },
  {
   "cell_type": "code",
   "execution_count": 13,
   "id": "85e17567-45e6-439b-8d57-5eb4adade18e",
   "metadata": {},
   "outputs": [
    {
     "data": {
      "text/plain": [
       "1"
      ]
     },
     "execution_count": 13,
     "metadata": {},
     "output_type": "execute_result"
    }
   ],
   "source": [
    "#What if the list is sorted? Can we search faster?\n",
    "# Show O(log n)\n",
    "\n",
    "import math\n",
    "\n",
    "#Source: http://www.geeksforgeeks.org/binary-search/ \n",
    "#Returns index of x in arr if present, else -1\n",
    "def binarySearch (arr, l, r, x):\n",
    " \n",
    "    # Check base case\n",
    "    if r >= l:\n",
    " \n",
    "        mid = l + math.floor((r - l)/2)\n",
    "     \n",
    "        # If element is present at the middle itself\n",
    "        if arr[mid] == x:\n",
    "            return mid\n",
    "         \n",
    "        # If element is smaller than mid, then it can only\n",
    "        # be present in left subarray\n",
    "        elif arr[mid] > x:\n",
    "            return binarySearch(arr, l, mid-1, x)\n",
    " \n",
    "        # Else the element can only be present in right subarray\n",
    "        else:\n",
    "            return binarySearch(arr, mid+1, r, x)\n",
    "\n",
    "\n",
    "    else:\n",
    "        # Element is not present in the array\n",
    "        return -1\n",
    "\n",
    "\n",
    "l.sort();\n",
    "arr = l;\n",
    "q =31;\n",
    "binarySearch(arr,0,len(arr)-1,q)\n",
    "\n"
   ]
  },
  {
   "cell_type": "code",
   "execution_count": 14,
   "id": "b1f85fb3-44f3-45e3-8408-7a97a3652dcf",
   "metadata": {},
   "outputs": [
    {
     "data": {
      "text/plain": [
       "0"
      ]
     },
     "execution_count": 14,
     "metadata": {},
     "output_type": "execute_result"
    }
   ],
   "source": [
    "BinSearch(a,99)"
   ]
  },
  {
   "cell_type": "code",
   "execution_count": 16,
   "id": "aa682237-fc64-4a5a-a273-7699225b146f",
   "metadata": {},
   "outputs": [
    {
     "data": {
      "text/plain": [
       "1"
      ]
     },
     "execution_count": 16,
     "metadata": {},
     "output_type": "execute_result"
    }
   ],
   "source": [
    "BinSearch(a,45)"
   ]
  },
  {
   "cell_type": "code",
   "execution_count": 17,
   "id": "00d1c231-1fd6-4d39-9397-a476111fe5cc",
   "metadata": {},
   "outputs": [
    {
     "data": {
      "text/plain": [
       "3"
      ]
     },
     "execution_count": 17,
     "metadata": {},
     "output_type": "execute_result"
    }
   ],
   "source": [
    "BinSearch(a,66)"
   ]
  },
  {
   "cell_type": "code",
   "execution_count": null,
   "id": "07eeefa5-d201-4821-a3ab-061fee4e0c1b",
   "metadata": {},
   "outputs": [],
   "source": []
  }
 ],
 "metadata": {
  "kernelspec": {
   "display_name": "Python 3 (ipykernel)",
   "language": "python",
   "name": "python3"
  },
  "language_info": {
   "codemirror_mode": {
    "name": "ipython",
    "version": 3
   },
   "file_extension": ".py",
   "mimetype": "text/x-python",
   "name": "python",
   "nbconvert_exporter": "python",
   "pygments_lexer": "ipython3",
   "version": "3.12.5"
  }
 },
 "nbformat": 4,
 "nbformat_minor": 5
}
